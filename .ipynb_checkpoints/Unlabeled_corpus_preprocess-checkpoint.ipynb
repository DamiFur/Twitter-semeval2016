{
 "cells": [
  {
   "cell_type": "markdown",
   "metadata": {},
   "source": [
    "# Connect to local mongo"
   ]
  },
  {
   "cell_type": "code",
   "execution_count": 1,
   "metadata": {},
   "outputs": [],
   "source": [
    "import pymongo\n",
    "\n",
    "client = pymongo.MongoClient(\"mongodb://localhost:27017/\")\n",
    "\n",
    "db = client[\"abortion\"]"
   ]
  },
  {
   "cell_type": "markdown",
   "metadata": {},
   "source": [
    "# Preprocess"
   ]
  },
  {
   "cell_type": "code",
   "execution_count": 15,
   "metadata": {},
   "outputs": [],
   "source": [
    "from nltk.tokenize import TweetTokenizer\n",
    "import re\n",
    "import unidecode\n",
    "\n",
    "# TweetTokenizer basically unterstands arrows, smiley faces and weird punctuation\n",
    "tokenizer = TweetTokenizer(preserve_case=True, reduce_len=True, strip_handles=False)\n",
    "\n",
    "\n",
    "def my_preprocess(text, keep_hashtags=True):\n",
    "    toks = tokenizer.tokenize(text)\n",
    "    ret = []\n",
    "    for tok in toks:\n",
    "        if tok[0] == \"#\" and not keep_hashtags:\n",
    "            continue\n",
    "        if tok[:4] == \"http\":\n",
    "            continue\n",
    "        if tok[0] == \"@\":\n",
    "            continue\n",
    "        if tok[0] == '\\n':\n",
    "            continue\n",
    "#         if tok[0] == ',':\n",
    "#             continue\n",
    "        # removing numbers and punctuation\n",
    "#         if tok.isnumeric():\n",
    "#             continue\n",
    "        ret.append(tok)\n",
    "    return \" \".join(ret)"
   ]
  },
  {
   "cell_type": "code",
   "execution_count": 16,
   "metadata": {},
   "outputs": [],
   "source": [
    "count = 0\n",
    "for t in db.abortion.find({},{\"tweet.id\", \"tweet.text\", \"tweet.full_text\", \"tweet.retweeted_status\", \"tweet.extended_tweet\"}):\n",
    "    text = \"\"\n",
    "    tweet = t[\"tweet\"]\n",
    "    if \"extended_tweet\" in tweet and \"full_text\" in tweet[\"extended_tweet\"]:\n",
    "        text = tweet[\"extended_tweet\"][\"full_text\"]\n",
    "    elif \"retweeted_status\" in tweet and \"extended_tweet\" in tweet[\"retweeted_status\"] and \"full_text\" in tweet[\"retweeted_status\"][\"extended_tweet\"]:\n",
    "        text = tweet[\"retweeted_status\"][\"extended_tweet\"][\"full_text\"]\n",
    "    elif(\"retweeted_status\" in tweet and \"full_text\" in tweet[\"retweeted_status\"]):\n",
    "        text = tweet[\"retweeted_status\"][\"full_text\"]\n",
    "    elif(\"full_text\" in tweet):\n",
    "        text = tweet[\"full_text\"]\n",
    "    elif(\"retweeted_status\" in tweet and \"text\" in tweet[\"retweeted_status\"]):\n",
    "        text = tweet[\"retweeted_status\"][\"text\"]\n",
    "    elif(\"text\" in tweet):\n",
    "        text = tweet[\"text\"]\n",
    "    else:\n",
    "        print(\"--------------------------------------\")\n",
    "        print(tweet[\"id\"])\n",
    "        count += 1\n",
    "#         print(tweet)\n",
    "    db.abortion.find_one_and_update({\"tweet.id\": tweet[\"id\"]}, {\"$set\": {\"tweet.full_text\": my_preprocess(text)}})"
   ]
  },
  {
   "cell_type": "code",
   "execution_count": 17,
   "metadata": {},
   "outputs": [
    {
     "data": {
      "text/plain": [
       "0"
      ]
     },
     "execution_count": 17,
     "metadata": {},
     "output_type": "execute_result"
    }
   ],
   "source": [
    "count"
   ]
  },
  {
   "cell_type": "markdown",
   "metadata": {},
   "source": [
    "It takes a while to run\n",
    "\n",
    "After it finished, run db.abortion.count({\"tweet.full_text\": {$exists: true}}) on mongo shell and it should say 613550"
   ]
  },
  {
   "cell_type": "code",
   "execution_count": 38,
   "metadata": {},
   "outputs": [],
   "source": [
    "tweets = set()\n",
    "count = 0\n",
    "for t in db.abortion.find({},{\"tweet.full_text\"}):\n",
    "    tweet = t['tweet']['full_text'].replace('\\n','')\n",
    "    if tweet[:2] == \"rt\" or tweet[:3] == \" rt\" or tweet == \"\\n\" or tweet == \"\":\n",
    "        count += 1\n",
    "    else:\n",
    "        tweets.add(tweet)"
   ]
  },
  {
   "cell_type": "code",
   "execution_count": 39,
   "metadata": {},
   "outputs": [
    {
     "name": "stdout",
     "output_type": "stream",
     "text": [
      "5848\n"
     ]
    },
    {
     "data": {
      "text/plain": [
       "141439"
      ]
     },
     "execution_count": 39,
     "metadata": {},
     "output_type": "execute_result"
    }
   ],
   "source": [
    "print(count)\n",
    "len(list(tweets))"
   ]
  },
  {
   "cell_type": "code",
   "execution_count": 40,
   "metadata": {},
   "outputs": [],
   "source": [
    "import random\n",
    "\n",
    "random.seed(43)\n",
    "\n",
    "for i in range(20):\n",
    "    sample = random.sample(tweets, 2000)\n",
    "    \n",
    "    w = open(\"abortion_unlabeled_sample_{}.csv\".format(i), 'w')\n",
    "    for tweet in sample:\n",
    "        w.write(\"{}\\n\".format(tweet))\n",
    "        tweets.remove(tweet)\n",
    "    w.close()"
   ]
  },
  {
   "cell_type": "code",
   "execution_count": 41,
   "metadata": {},
   "outputs": [
    {
     "data": {
      "text/plain": [
       "101439"
      ]
     },
     "execution_count": 41,
     "metadata": {},
     "output_type": "execute_result"
    }
   ],
   "source": [
    "len(tweets)"
   ]
  },
  {
   "cell_type": "code",
   "execution_count": 30,
   "metadata": {},
   "outputs": [
    {
     "name": "stdout",
     "output_type": "stream",
     "text": [
      "National security of the Country is more important than abortion , trans issues and party . Trump is acting like a puppet to Putin , why ? Trump loves all dictators why ? Trump never criticized Saudi King for khashogi murder why ?\n",
      "The fictitious Labour account approach was used heavily in the #repealthe8th campaign . The purpose here was to lend left wing ' legitimacy ' to the anti-abortion campaign .\n",
      "This week , the U . S . Ambassador to the United Nations objected to the use of the phrase \" sexual and reproductive health \" because it could \" suggest a right to abortion . \" Make no mistake : They are coming for women's freedom on a global scale .\n",
      "Let ’ s stop calling it “ the fight over abortion ” & start calling it what it really is : The fight to grant pregnant people personhood . The fight to acknowledge pregnant people as deserving basic human rights . The fight to have the audacity to respect pregnant people ’ s autonomy .\n",
      "The largest 40 Days for Life campaign ever has come to an end ...\n",
      "\n",
      "... and we have 454 confirmed reports of babies saved from abortion--with reports continuing to come in !\n",
      "URGENT : Help us cancel an abortion scheduled for tomorrow ! #ProLife\n",
      "REMINDER : Tomorrow is Election Day ! For many , tomorrow's election results will determine the future of abortion rights in their state . Every election matters ! Grab a friend and get to the polls . 🗳 ️ 💁 ‍ ♀ ️\n",
      "This week , the U . S . Ambassador to the United Nations objected to the use of the phrase \" sexual and reproductive health \" because it could \" suggest a right to abortion . \" Make no mistake : They are coming for women's freedom on a global scale .\n",
      "\" In Kentucky , nearly 50,000 jobs have been created under Governor Bevin and with President Trump in office . And you have an opponent there right now who's supporting taxpayer-funded abortion ... and that's just not in line with the values of the people of Kentucky . -\n",
      "Some anti-abortion leaders claim they're against criminalizing abortion with one side of their mouth , and yet do nothing about it with their actions . Others openly embrace sending women to jail . Watch new video now : #StopProsecutingAbortion\n"
     ]
    }
   ],
   "source": [
    "complete_tweets = set()\n",
    "for t in db.abortion.find().limit(10):\n",
    "    print(t['tweet'][\"full_text\"])"
   ]
  },
  {
   "cell_type": "code",
   "execution_count": 76,
   "metadata": {},
   "outputs": [
    {
     "name": "stdout",
     "output_type": "stream",
     "text": [
      "Took a closer look and realized Darrell Jackson, a Democrat and a pastor from the Columbia area is also missing. So that's 9 Republicans and 6 Democrats here today at Senate Medical Affairs. https://t.co/SRDyAMENMs\n",
      "Took a closer look and realized Darrell Jackson, a Democrat and a pastor from the Columbia area is also missing. So that's 9 Republicans and 6 Democrats here today at Senate Medical Affairs. https://t.co/SRDyAMENMs\n",
      "Took a closer look and realized Darrell Jackson, a Democrat and a pastor from the Columbia area is also missing. So that's 9 Republicans and 6 Democrats here today at Senate Medical Affairs. https://t.co/SRDyAMENMs\n",
      "Took a closer look and realized Darrell Jackson, a Democrat and a pastor from the Columbia area is also missing. So that's 9 Republicans and 6 Democrats here today at Senate Medical Affairs. https://t.co/SRDyAMENMs\n",
      "Took a closer look and realized Darrell Jackson, a Democrat and a pastor from the Columbia area is also missing. So that's 9 Republicans and 6 Democrats here today at Senate Medical Affairs. https://t.co/SRDyAMENMs\n"
     ]
    }
   ],
   "source": [
    "for t in db.abortion.find({\"tweet.full_text\": \"took a closer look and realized darrell jackson a democrat and a pastor from the columbia area is also missing . so ...\"}):\n",
    "    print(t[\"tweet\"][\"retweeted_status\"][\"extended_tweet\"][\"full_text\"])"
   ]
  },
  {
   "cell_type": "code",
   "execution_count": null,
   "metadata": {},
   "outputs": [],
   "source": []
  }
 ],
 "metadata": {
  "kernelspec": {
   "display_name": "Python 3",
   "language": "python",
   "name": "python3"
  },
  "language_info": {
   "codemirror_mode": {
    "name": "ipython",
    "version": 3
   },
   "file_extension": ".py",
   "mimetype": "text/x-python",
   "name": "python",
   "nbconvert_exporter": "python",
   "pygments_lexer": "ipython3",
   "version": "3.7.3"
  }
 },
 "nbformat": 4,
 "nbformat_minor": 2
}
