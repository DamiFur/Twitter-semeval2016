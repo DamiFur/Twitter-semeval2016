{
 "cells": [
  {
   "cell_type": "markdown",
   "metadata": {},
   "source": [
    "# Connect to local mongo"
   ]
  },
  {
   "cell_type": "code",
   "execution_count": 2,
   "metadata": {},
   "outputs": [],
   "source": [
    "import pymongo\n",
    "\n",
    "client = pymongo.MongoClient(\"mongodb://localhost:27017/\")\n",
    "\n",
    "db = client[\"abortion\"]"
   ]
  },
  {
   "cell_type": "markdown",
   "metadata": {},
   "source": [
    "# Preprocess"
   ]
  },
  {
   "cell_type": "code",
   "execution_count": 3,
   "metadata": {},
   "outputs": [],
   "source": [
    "from nltk.tokenize import TweetTokenizer\n",
    "import re\n",
    "import unidecode\n",
    "\n",
    "# TweetTokenizer basically unterstands arrows, smiley faces and weird punctuation\n",
    "tokenizer = TweetTokenizer(preserve_case=True, reduce_len=True, strip_handles=False)\n",
    "\n",
    "\n",
    "def my_preprocess(text, keep_hashtags=True):\n",
    "    toks = tokenizer.tokenize(text)\n",
    "\n",
    "    ret = []\n",
    "    for tok in toks:\n",
    "        if tok[0] == \"#\" and not keep_hashtags:\n",
    "            continue\n",
    "        if tok[:4] == \"http\":\n",
    "            continue\n",
    "        if tok[0] == \"@\":\n",
    "            continue\n",
    "        # removing numbers and punctuation\n",
    "        if tok.isnumeric():\n",
    "            continue\n",
    "        ret.append(unidecode.unidecode(tok.lower()))\n",
    "    return \" \".join(ret)"
   ]
  },
  {
   "cell_type": "code",
   "execution_count": 11,
   "metadata": {},
   "outputs": [],
   "source": [
    "for t in db.abortion.find({},{\"tweet.id\", \"tweet.text\", \"tweet.full_text\", \"tweet.retweeted_status\"}):\n",
    "    text = \"\"\n",
    "    tweet = t[\"tweet\"]\n",
    "    if(\"full_text\" in tweet):\n",
    "        text = tweet[\"full_text\"]\n",
    "    elif(\"retweeted_status\" in tweet and \"full_text\" in tweet[\"retweeted_status\"]):\n",
    "        text = tweet[\"retweeted_status\"][\"full_text\"]\n",
    "    elif(\"retweeted_status\" in tweet and \"text\" in tweet[\"retweeted_status\"]):\n",
    "        text = tweet[\"retweeted_status\"][\"text\"]\n",
    "    elif(\"text\" in tweet):\n",
    "        text = tweet[\"text\"]\n",
    "    else:\n",
    "        print(tweet)\n",
    "    db.abortion.find_one_and_update({\"tweet.id\": tweet[\"id\"]}, {\"$set\": {\"tweet.full_text\": my_preprocess(text)}})"
   ]
  },
  {
   "cell_type": "markdown",
   "metadata": {},
   "source": [
    "It takes a while to run\n",
    "\n",
    "After it finished, run db.abortion.count({\"tweet.full_text\": {$exists: true}}) on mongo shell and it should say 613550"
   ]
  },
  {
   "cell_type": "code",
   "execution_count": null,
   "metadata": {},
   "outputs": [],
   "source": []
  }
 ],
 "metadata": {
  "kernelspec": {
   "display_name": "Python 3",
   "language": "python",
   "name": "python3"
  },
  "language_info": {
   "codemirror_mode": {
    "name": "ipython",
    "version": 3
   },
   "file_extension": ".py",
   "mimetype": "text/x-python",
   "name": "python",
   "nbconvert_exporter": "python",
   "pygments_lexer": "ipython3",
   "version": "3.7.3"
  }
 },
 "nbformat": 4,
 "nbformat_minor": 2
}
