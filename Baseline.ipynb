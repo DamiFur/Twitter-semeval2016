{
 "cells": [
  {
   "cell_type": "markdown",
   "metadata": {},
   "source": [
    "# Imports"
   ]
  },
  {
   "cell_type": "code",
   "execution_count": 1,
   "metadata": {},
   "outputs": [],
   "source": [
    "import pandas as pd\n",
    "import fasttext\n",
    "\n",
    "from nltk.tokenize import TweetTokenizer\n",
    "import re\n",
    "import unidecode\n",
    "\n",
    "from sklearn.feature_extraction.text import CountVectorizer\n",
    "from sklearn.preprocessing import LabelBinarizer\n",
    "from nltk.corpus import stopwords\n",
    "\n",
    "import numpy as np\n",
    "\n",
    "from sklearn.linear_model import LogisticRegression\n",
    "\n",
    "from sklearn.metrics import precision_score, recall_score, f1_score\n",
    "\n",
    "from scipy import sparse"
   ]
  },
  {
   "cell_type": "markdown",
   "metadata": {},
   "source": [
    "# Collect Data"
   ]
  },
  {
   "cell_type": "markdown",
   "metadata": {},
   "source": [
    "I couldn't import the data as directly downloaded from semeval because it gave me an \"unknown not utf-8 character\" so I imported it as a csv to an Excel and saved it again as train_utf.csv and it worked"
   ]
  },
  {
   "cell_type": "code",
   "execution_count": 252,
   "metadata": {},
   "outputs": [],
   "source": [
    "traindata = pd.read_csv(\"semeval.abortion.train.csv\", sep=',', encoding=\"latin1\").fillna(method=\"ffill\")\n",
    "testdata = pd.read_csv(\"semeval_test_corrected.csv\", sep=',', encoding=\"latin1\").fillna(method=\"ffill\")\n",
    "validationdata = pd.read_csv(\"semeval.abortion.validation.csv\", sep=',', encoding=\"latin1\").fillna(method=\"ffill\")\n",
    "\n",
    "is_against = traindata['Stance']=='AGAINST'\n",
    "is_favor = traindata['Stance']=='FAVOR'\n",
    "is_none = traindata['Stance']=='NONE'\n",
    "\n",
    "traindata_against = traindata[is_against]\n",
    "traindata_favor = traindata[is_favor]\n",
    "traindata_none = traindata[is_none]\n",
    "\n",
    "## Keep only the abortion tweets ONLY FOR COMPLETE DATASET\n",
    "# is_abortion = traindata['Stance']==\"Legalization of Abortion\"\n",
    "# is_abortion_test = testdata['Stance']==\"Legalization of Abortion\"\n",
    "# is_abortion_valid = validationdata['Stance']==\"Legalization of Abortion\"\n",
    "\n",
    "# train_abortion = traindata[is_abortion]\n",
    "# test_abortion = testdata[is_abortion_test]\n",
    "# valid_abortion = validationdata[is_abortion_test]"
   ]
  },
  {
   "cell_type": "markdown",
   "metadata": {},
   "source": [
    "Subsampling to equilibrate the classes"
   ]
  },
  {
   "cell_type": "code",
   "execution_count": 253,
   "metadata": {},
   "outputs": [],
   "source": [
    "traindata = pd.concat([traindata_against[:99], traindata_none[:99], traindata_favor])"
   ]
  },
  {
   "cell_type": "code",
   "execution_count": 254,
   "metadata": {},
   "outputs": [
    {
     "data": {
      "text/html": [
       "<div>\n",
       "<style scoped>\n",
       "    .dataframe tbody tr th:only-of-type {\n",
       "        vertical-align: middle;\n",
       "    }\n",
       "\n",
       "    .dataframe tbody tr th {\n",
       "        vertical-align: top;\n",
       "    }\n",
       "\n",
       "    .dataframe thead th {\n",
       "        text-align: right;\n",
       "    }\n",
       "</style>\n",
       "<table border=\"1\" class=\"dataframe\">\n",
       "  <thead>\n",
       "    <tr style=\"text-align: right;\">\n",
       "      <th></th>\n",
       "      <th>Tweet</th>\n",
       "      <th>Stance</th>\n",
       "    </tr>\n",
       "  </thead>\n",
       "  <tbody>\n",
       "    <tr>\n",
       "      <th>0</th>\n",
       "      <td>Just laid down the law on abortion in my bioet...</td>\n",
       "      <td>AGAINST</td>\n",
       "    </tr>\n",
       "    <tr>\n",
       "      <th>2</th>\n",
       "      <td>Now that there's marriage equality, can we sta...</td>\n",
       "      <td>AGAINST</td>\n",
       "    </tr>\n",
       "    <tr>\n",
       "      <th>3</th>\n",
       "      <td>I'll always put all my focus and energy toward...</td>\n",
       "      <td>AGAINST</td>\n",
       "    </tr>\n",
       "    <tr>\n",
       "      <th>4</th>\n",
       "      <td>@BarackObama celebrates \"equality\" while 3000 ...</td>\n",
       "      <td>AGAINST</td>\n",
       "    </tr>\n",
       "    <tr>\n",
       "      <th>6</th>\n",
       "      <td>Now that the govt and The Supremes have saved ...</td>\n",
       "      <td>AGAINST</td>\n",
       "    </tr>\n",
       "    <tr>\n",
       "      <th>8</th>\n",
       "      <td>In the aim for equality we have forgotten the ...</td>\n",
       "      <td>AGAINST</td>\n",
       "    </tr>\n",
       "    <tr>\n",
       "      <th>12</th>\n",
       "      <td>True equality\" allows all to be born. #SemST</td>\n",
       "      <td>AGAINST</td>\n",
       "    </tr>\n",
       "    <tr>\n",
       "      <th>14</th>\n",
       "      <td>Can we make sure #lovewins for babies too? Or ...</td>\n",
       "      <td>AGAINST</td>\n",
       "    </tr>\n",
       "    <tr>\n",
       "      <th>15</th>\n",
       "      <td>What about the equal rights of unborn humans i...</td>\n",
       "      <td>AGAINST</td>\n",
       "    </tr>\n",
       "    <tr>\n",
       "      <th>24</th>\n",
       "      <td>Okay so how about declaring and protecting equ...</td>\n",
       "      <td>AGAINST</td>\n",
       "    </tr>\n",
       "    <tr>\n",
       "      <th>25</th>\n",
       "      <td>@TheHeavySquad  #DailyWordsOfWisdom Pat's best...</td>\n",
       "      <td>AGAINST</td>\n",
       "    </tr>\n",
       "    <tr>\n",
       "      <th>27</th>\n",
       "      <td>Equal rights for all @SCOTUS? Except for the u...</td>\n",
       "      <td>AGAINST</td>\n",
       "    </tr>\n",
       "    <tr>\n",
       "      <th>30</th>\n",
       "      <td>If you want #Equality then let ALL the babies ...</td>\n",
       "      <td>AGAINST</td>\n",
       "    </tr>\n",
       "    <tr>\n",
       "      <th>31</th>\n",
       "      <td>Because as long as we're ending innocent lives...</td>\n",
       "      <td>AGAINST</td>\n",
       "    </tr>\n",
       "    <tr>\n",
       "      <th>35</th>\n",
       "      <td>WORLDWIDE R.E. Agents! - Support a ProLife Gro...</td>\n",
       "      <td>AGAINST</td>\n",
       "    </tr>\n",
       "    <tr>\n",
       "      <th>36</th>\n",
       "      <td>I feel the greatest destroyer of peace today i...</td>\n",
       "      <td>AGAINST</td>\n",
       "    </tr>\n",
       "    <tr>\n",
       "      <th>38</th>\n",
       "      <td>When you abort a baby, you don't just abort on...</td>\n",
       "      <td>AGAINST</td>\n",
       "    </tr>\n",
       "    <tr>\n",
       "      <th>39</th>\n",
       "      <td>Abortion is on the wrong side of history: heal...</td>\n",
       "      <td>AGAINST</td>\n",
       "    </tr>\n",
       "    <tr>\n",
       "      <th>44</th>\n",
       "      <td>Is #America still \"One Nation Under God\" #viol...</td>\n",
       "      <td>AGAINST</td>\n",
       "    </tr>\n",
       "    <tr>\n",
       "      <th>45</th>\n",
       "      <td>RT @AdvocatesOfLife: RT @ProLifeYouth Adopting...</td>\n",
       "      <td>AGAINST</td>\n",
       "    </tr>\n",
       "    <tr>\n",
       "      <th>46</th>\n",
       "      <td>On my bday I'm always so grateful to my bio pa...</td>\n",
       "      <td>AGAINST</td>\n",
       "    </tr>\n",
       "    <tr>\n",
       "      <th>47</th>\n",
       "      <td>That's like being into cannibalism but against...</td>\n",
       "      <td>AGAINST</td>\n",
       "    </tr>\n",
       "    <tr>\n",
       "      <th>49</th>\n",
       "      <td>if we can accept that a mother can kill even h...</td>\n",
       "      <td>AGAINST</td>\n",
       "    </tr>\n",
       "    <tr>\n",
       "      <th>50</th>\n",
       "      <td>How much do we really believe in equal rights ...</td>\n",
       "      <td>AGAINST</td>\n",
       "    </tr>\n",
       "    <tr>\n",
       "      <th>51</th>\n",
       "      <td>Thanks @Jeffrey_Addison  Kudos to @VolvoCarsAu...</td>\n",
       "      <td>AGAINST</td>\n",
       "    </tr>\n",
       "    <tr>\n",
       "      <th>56</th>\n",
       "      <td>#Humans have taken over the role of #God - #Ra...</td>\n",
       "      <td>AGAINST</td>\n",
       "    </tr>\n",
       "    <tr>\n",
       "      <th>60</th>\n",
       "      <td>HOW COULD I DIE BEFORE EVEN I BORN,TO YOU I AM...</td>\n",
       "      <td>AGAINST</td>\n",
       "    </tr>\n",
       "    <tr>\n",
       "      <th>61</th>\n",
       "      <td>RT @ProLifeYouth: #SCOTUS says they support eq...</td>\n",
       "      <td>AGAINST</td>\n",
       "    </tr>\n",
       "    <tr>\n",
       "      <th>63</th>\n",
       "      <td>RT @ORConservative: @POTUS @Pontifex Everybody...</td>\n",
       "      <td>AGAINST</td>\n",
       "    </tr>\n",
       "    <tr>\n",
       "      <th>64</th>\n",
       "      <td>In church for a Pro-life meeting. I will be th...</td>\n",
       "      <td>AGAINST</td>\n",
       "    </tr>\n",
       "    <tr>\n",
       "      <th>...</th>\n",
       "      <td>...</td>\n",
       "      <td>...</td>\n",
       "    </tr>\n",
       "    <tr>\n",
       "      <th>397</th>\n",
       "      <td>@ProLifeLiberty Yes, your reasoning is horribl...</td>\n",
       "      <td>FAVOR</td>\n",
       "    </tr>\n",
       "    <tr>\n",
       "      <th>398</th>\n",
       "      <td>U know what isn't funny? Male politicians deci...</td>\n",
       "      <td>FAVOR</td>\n",
       "    </tr>\n",
       "    <tr>\n",
       "      <th>401</th>\n",
       "      <td>@TheFullBug Dehumanizing? Why are you dehumani...</td>\n",
       "      <td>FAVOR</td>\n",
       "    </tr>\n",
       "    <tr>\n",
       "      <th>402</th>\n",
       "      <td>RT @pari_passu: Dear Religious Right: I keep m...</td>\n",
       "      <td>FAVOR</td>\n",
       "    </tr>\n",
       "    <tr>\n",
       "      <th>403</th>\n",
       "      <td>I know what's best, for my health. You don't k...</td>\n",
       "      <td>FAVOR</td>\n",
       "    </tr>\n",
       "    <tr>\n",
       "      <th>404</th>\n",
       "      <td>God forbid you'd ever have to walk a mile in h...</td>\n",
       "      <td>FAVOR</td>\n",
       "    </tr>\n",
       "    <tr>\n",
       "      <th>407</th>\n",
       "      <td>People who have never had an abortion can be p...</td>\n",
       "      <td>FAVOR</td>\n",
       "    </tr>\n",
       "    <tr>\n",
       "      <th>408</th>\n",
       "      <td>Assaulting &amp; manipulating pregnant people does...</td>\n",
       "      <td>FAVOR</td>\n",
       "    </tr>\n",
       "    <tr>\n",
       "      <th>410</th>\n",
       "      <td>People who want kids can b prochoice. U don't ...</td>\n",
       "      <td>FAVOR</td>\n",
       "    </tr>\n",
       "    <tr>\n",
       "      <th>412</th>\n",
       "      <td>Are the same people who are red faced and frot...</td>\n",
       "      <td>FAVOR</td>\n",
       "    </tr>\n",
       "    <tr>\n",
       "      <th>426</th>\n",
       "      <td>#SB724 passes Sen. Judiciary Cmte.This bill is...</td>\n",
       "      <td>FAVOR</td>\n",
       "    </tr>\n",
       "    <tr>\n",
       "      <th>427</th>\n",
       "      <td>A needed, safe medical procedure is available ...</td>\n",
       "      <td>FAVOR</td>\n",
       "    </tr>\n",
       "    <tr>\n",
       "      <th>429</th>\n",
       "      <td>Govt cannot force you to get chemo but if you'...</td>\n",
       "      <td>FAVOR</td>\n",
       "    </tr>\n",
       "    <tr>\n",
       "      <th>435</th>\n",
       "      <td>People who have been pregnant can be pro choic...</td>\n",
       "      <td>FAVOR</td>\n",
       "    </tr>\n",
       "    <tr>\n",
       "      <th>445</th>\n",
       "      <td>Lol it's no ones choice but the woman's when i...</td>\n",
       "      <td>FAVOR</td>\n",
       "    </tr>\n",
       "    <tr>\n",
       "      <th>460</th>\n",
       "      <td>I can't stand people who are pro life because ...</td>\n",
       "      <td>FAVOR</td>\n",
       "    </tr>\n",
       "    <tr>\n",
       "      <th>463</th>\n",
       "      <td>Praise to District Court Judge Larry Hendricks...</td>\n",
       "      <td>FAVOR</td>\n",
       "    </tr>\n",
       "    <tr>\n",
       "      <th>466</th>\n",
       "      <td>Bodily autonomy is a human right. A person's a...</td>\n",
       "      <td>FAVOR</td>\n",
       "    </tr>\n",
       "    <tr>\n",
       "      <th>468</th>\n",
       "      <td>It's not #yourbody, so it's not your #choice.y...</td>\n",
       "      <td>FAVOR</td>\n",
       "    </tr>\n",
       "    <tr>\n",
       "      <th>472</th>\n",
       "      <td>As good a time as any to say: when too many me...</td>\n",
       "      <td>FAVOR</td>\n",
       "    </tr>\n",
       "    <tr>\n",
       "      <th>479</th>\n",
       "      <td>She*  knows what's best for her* happiness &amp; h...</td>\n",
       "      <td>FAVOR</td>\n",
       "    </tr>\n",
       "    <tr>\n",
       "      <th>487</th>\n",
       "      <td>@m_lonz @LifeNewsHQ Captors have already been ...</td>\n",
       "      <td>FAVOR</td>\n",
       "    </tr>\n",
       "    <tr>\n",
       "      <th>490</th>\n",
       "      <td>RT @PinkGypsySoul: The single most important f...</td>\n",
       "      <td>FAVOR</td>\n",
       "    </tr>\n",
       "    <tr>\n",
       "      <th>494</th>\n",
       "      <td>@politicspizza @RebeccahLouise @ProLifeYouth w...</td>\n",
       "      <td>FAVOR</td>\n",
       "    </tr>\n",
       "    <tr>\n",
       "      <th>495</th>\n",
       "      <td>Inching toward diabetes while supporting @ProC...</td>\n",
       "      <td>FAVOR</td>\n",
       "    </tr>\n",
       "    <tr>\n",
       "      <th>502</th>\n",
       "      <td>When is abortion a responsible choice? When a ...</td>\n",
       "      <td>FAVOR</td>\n",
       "    </tr>\n",
       "    <tr>\n",
       "      <th>507</th>\n",
       "      <td>RT @spicysandwich: Say it again for me one tim...</td>\n",
       "      <td>FAVOR</td>\n",
       "    </tr>\n",
       "    <tr>\n",
       "      <th>509</th>\n",
       "      <td>people in the government care more about words...</td>\n",
       "      <td>FAVOR</td>\n",
       "    </tr>\n",
       "    <tr>\n",
       "      <th>512</th>\n",
       "      <td>Today I am grateful for the #reproductiveright...</td>\n",
       "      <td>FAVOR</td>\n",
       "    </tr>\n",
       "    <tr>\n",
       "      <th>516</th>\n",
       "      <td>@AYoungJFK it was her choice Mark! #profeminis...</td>\n",
       "      <td>FAVOR</td>\n",
       "    </tr>\n",
       "  </tbody>\n",
       "</table>\n",
       "<p>297 rows × 2 columns</p>\n",
       "</div>"
      ],
      "text/plain": [
       "                                                 Tweet   Stance\n",
       "0    Just laid down the law on abortion in my bioet...  AGAINST\n",
       "2    Now that there's marriage equality, can we sta...  AGAINST\n",
       "3    I'll always put all my focus and energy toward...  AGAINST\n",
       "4    @BarackObama celebrates \"equality\" while 3000 ...  AGAINST\n",
       "6    Now that the govt and The Supremes have saved ...  AGAINST\n",
       "8    In the aim for equality we have forgotten the ...  AGAINST\n",
       "12        True equality\" allows all to be born. #SemST  AGAINST\n",
       "14   Can we make sure #lovewins for babies too? Or ...  AGAINST\n",
       "15   What about the equal rights of unborn humans i...  AGAINST\n",
       "24   Okay so how about declaring and protecting equ...  AGAINST\n",
       "25   @TheHeavySquad  #DailyWordsOfWisdom Pat's best...  AGAINST\n",
       "27   Equal rights for all @SCOTUS? Except for the u...  AGAINST\n",
       "30   If you want #Equality then let ALL the babies ...  AGAINST\n",
       "31   Because as long as we're ending innocent lives...  AGAINST\n",
       "35   WORLDWIDE R.E. Agents! - Support a ProLife Gro...  AGAINST\n",
       "36   I feel the greatest destroyer of peace today i...  AGAINST\n",
       "38   When you abort a baby, you don't just abort on...  AGAINST\n",
       "39   Abortion is on the wrong side of history: heal...  AGAINST\n",
       "44   Is #America still \"One Nation Under God\" #viol...  AGAINST\n",
       "45   RT @AdvocatesOfLife: RT @ProLifeYouth Adopting...  AGAINST\n",
       "46   On my bday I'm always so grateful to my bio pa...  AGAINST\n",
       "47   That's like being into cannibalism but against...  AGAINST\n",
       "49   if we can accept that a mother can kill even h...  AGAINST\n",
       "50   How much do we really believe in equal rights ...  AGAINST\n",
       "51   Thanks @Jeffrey_Addison  Kudos to @VolvoCarsAu...  AGAINST\n",
       "56   #Humans have taken over the role of #God - #Ra...  AGAINST\n",
       "60   HOW COULD I DIE BEFORE EVEN I BORN,TO YOU I AM...  AGAINST\n",
       "61   RT @ProLifeYouth: #SCOTUS says they support eq...  AGAINST\n",
       "63   RT @ORConservative: @POTUS @Pontifex Everybody...  AGAINST\n",
       "64   In church for a Pro-life meeting. I will be th...  AGAINST\n",
       "..                                                 ...      ...\n",
       "397  @ProLifeLiberty Yes, your reasoning is horribl...    FAVOR\n",
       "398  U know what isn't funny? Male politicians deci...    FAVOR\n",
       "401  @TheFullBug Dehumanizing? Why are you dehumani...    FAVOR\n",
       "402  RT @pari_passu: Dear Religious Right: I keep m...    FAVOR\n",
       "403  I know what's best, for my health. You don't k...    FAVOR\n",
       "404  God forbid you'd ever have to walk a mile in h...    FAVOR\n",
       "407  People who have never had an abortion can be p...    FAVOR\n",
       "408  Assaulting & manipulating pregnant people does...    FAVOR\n",
       "410  People who want kids can b prochoice. U don't ...    FAVOR\n",
       "412  Are the same people who are red faced and frot...    FAVOR\n",
       "426  #SB724 passes Sen. Judiciary Cmte.This bill is...    FAVOR\n",
       "427  A needed, safe medical procedure is available ...    FAVOR\n",
       "429  Govt cannot force you to get chemo but if you'...    FAVOR\n",
       "435  People who have been pregnant can be pro choic...    FAVOR\n",
       "445  Lol it's no ones choice but the woman's when i...    FAVOR\n",
       "460  I can't stand people who are pro life because ...    FAVOR\n",
       "463  Praise to District Court Judge Larry Hendricks...    FAVOR\n",
       "466  Bodily autonomy is a human right. A person's a...    FAVOR\n",
       "468  It's not #yourbody, so it's not your #choice.y...    FAVOR\n",
       "472  As good a time as any to say: when too many me...    FAVOR\n",
       "479  She*  knows what's best for her* happiness & h...    FAVOR\n",
       "487  @m_lonz @LifeNewsHQ Captors have already been ...    FAVOR\n",
       "490  RT @PinkGypsySoul: The single most important f...    FAVOR\n",
       "494  @politicspizza @RebeccahLouise @ProLifeYouth w...    FAVOR\n",
       "495  Inching toward diabetes while supporting @ProC...    FAVOR\n",
       "502  When is abortion a responsible choice? When a ...    FAVOR\n",
       "507  RT @spicysandwich: Say it again for me one tim...    FAVOR\n",
       "509  people in the government care more about words...    FAVOR\n",
       "512  Today I am grateful for the #reproductiveright...    FAVOR\n",
       "516  @AYoungJFK it was her choice Mark! #profeminis...    FAVOR\n",
       "\n",
       "[297 rows x 2 columns]"
      ]
     },
     "execution_count": 254,
     "metadata": {},
     "output_type": "execute_result"
    }
   ],
   "source": [
    "traindata"
   ]
  },
  {
   "cell_type": "markdown",
   "metadata": {},
   "source": [
    "# Preprocessing"
   ]
  },
  {
   "cell_type": "code",
   "execution_count": 255,
   "metadata": {},
   "outputs": [],
   "source": [
    "\n",
    "# TweetTokenizer basically unterstands arrows, smiley faces and weird punctuation\n",
    "tokenizer = TweetTokenizer(preserve_case=True, reduce_len=True, strip_handles=False)\n",
    "\n",
    "\n",
    "def my_preprocess(text, keep_hashtags=True):\n",
    "    toks = tokenizer.tokenize(text)\n",
    "\n",
    "    ret = []\n",
    "    for tok in toks:\n",
    "        if tok[:4] == \"#sem\":\n",
    "            continue\n",
    "        if tok[0] == \"#\" and not keep_hashtags:\n",
    "            continue\n",
    "        if tok[:4] == \"http\":\n",
    "            continue\n",
    "        if tok[0] == \"@\":\n",
    "            continue\n",
    "        # removing numbers\n",
    "        if tok.isnumeric():\n",
    "            continue\n",
    "        ret.append(unidecode.unidecode(tok.lower()))\n",
    "    return \" \".join(ret)"
   ]
  },
  {
   "cell_type": "code",
   "execution_count": 256,
   "metadata": {},
   "outputs": [
    {
     "name": "stdout",
     "output_type": "stream",
     "text": [
      "[('some babies die by chance , none should die by choice ! #semst', 'AGAINST'), (\"#childrenscentre's in the #uk have stay & play sessions for very young / single parents #childcare #parenting #semst\", 'NONE'), ('the idea that a \" fetus \" isn\\'t human is outrageous , i mean what else would it be ? a dog ? a dragon ? the unborn are human beings ! #semst', 'AGAINST'), (\"don't get pregnant ! make sure you don't get pregnant if you'd just kill your child if you do ! #semst\", 'AGAINST'), ('no one has 5he right to tell any person what they should do with their body #semst', 'FAVOR'), ('i am about to deck these bitches in the fucking mouth . #1a #2a #nra #cos #ccot #tgdn #pjnet #wakeupamerica #semst', 'NONE'), (\"not ashamed to say it's me . i'm not in favor of enc itself as not banning enc modules . #semst\", 'NONE'), ('as a man , the only body i should have a say in is my own . #repealthe8th #rally4life #semst', 'FAVOR'), ('women have outgrown the common housewife stigma long ago #semst', 'NONE'), (\"#sb128 isn't opposed merely b / c it's against god's will ( as if we're neanderthals ) . it's murder . like #semst\", 'AGAINST'), ('there is no \" #abortion \" involved in taking the pill honey . #womenshealth #abortifacient #fail #semst', 'FAVOR'), ('meanwhile , wants to waste your money to kill innocent children in the womb . #dangerous #hypocrite #nochoice #semst', 'AGAINST'), ('kohn is also anti-human rights , anti-social justice , anti-peace , pro-violence . #semst', 'NONE'), ('remember that there is no \" murder \" involed in #abortion . i am #procontraception for less #abortion . #semst', 'FAVOR'), (\"rt : it's so easy to be pro-choice , especially when you're not the one getting your skull crushed . #semst\", 'AGAINST'), ('how many location-efficient , #affordablehousing units could the nyc metro ( pop . 23m ) create if it built over all of its cemeteries ? #semst', 'NONE'), ('societies that put to death the weak and vulnerable are more violent . #nazis #streetgangs #communists #assistedsuicide #semst', 'AGAINST'), ('the teen pregnancy rate has declined percent , and the teen birth rate is down percent . #semst', 'FAVOR'), ('fyi : unborn babies diagnosed with a disability in the womb can feel pain just as much as a baby without a diagnosis #theyfeelpain #semst', 'AGAINST'), ('not all women want to have or bear children , and that is okay #semst', 'FAVOR'), ('i wonder if #antichoice ever wonder if the pregnant #teen they denied accurate #sexed to could have been the one to cure cancer . #semst', 'FAVOR'), ('i was an accidental baby and as far as i know , my parents were happy to have me . #thanksmom #semst', 'AGAINST'), ('margret sangers looking a little rough ! ! ! #semst', 'NONE'), (\"the sanctity of human life is not a woman's issue . #antifeminism #semst\", 'AGAINST'), ('the point is bodily autonomy . a born child can rely on other people , and can live by itself #semst', 'FAVOR'), (\"i am nazi holocaust survivor and i say that abortion is america's holocaust ! - sibylle heidrich von campe #holocaust #semst\", 'AGAINST'), ('the government has given no explanation of why the law was changed #macedonia #hrctte #semst', 'NONE'), ('i hope you all either enjoy the rugby or enjoy not enjoying the rugby #semst', 'NONE'), ('where is #silenceddiscourse for #divisions on #schoolchoice #taxes #doublestandard #biased #semst', 'NONE'), (\"compromising on #sin gets easier as time goes on . oh yeah , it didn't just start ! #sexual-impurity #wakeupamerica #semst\", 'NONE'), ('how can someone be calling for abortion in a speech and end it with \" god bless america \" ? #righttolife #semst', 'AGAINST'), (\"if it's not a person then why do women get invitro ? to have a gold fish ? #semst\", 'AGAINST'), ('anti choice laws are sexist because they ignore the fact that men abandon their pregnant partners & those men face no punishment #semst', 'FAVOR'), (\"these dems ' lack of compassion for unborn babies who receive prenatal diagnoses is appalling #theyfeelpain #semst\", 'AGAINST'), ('women are capable of making decisions #semst', 'FAVOR'), ('i will fight for the unborn ! #semst', 'AGAINST'), (\"there weren't any volunteers outside abortion clinic when she had her abortion bcs there aren't enough of us . can you join us ? 2/2 #semst\", 'AGAINST'), (\"there is nothing sadder than pro-life young women . i can't help but pity the fools . #repealthe8th #semst\", 'FAVOR'), ('we need more public funding for birth control , condoms and abortions , especially abortions . #budget2015 #election2016 #semst', 'FAVOR'), (\"they are both alive & human from conception just earlier phase of life's continuum ! #semst\", 'AGAINST'), ('babies are humans to support the prolife movement #semst', 'AGAINST'), ('rt davidharris : mathewsjeanne thank you your very #kind rt . god bless you #patriot . #babies matter #semst', 'AGAINST'), ('% of abortions occur at the 12th week or before #letstalkabortion #semst', 'NONE'), ('& purely physical enjoyment with no responsibility attached #semst', 'NONE'), ('sexual assault is epidemic .. not just in military , colleges , universities . fight stop this crime = less need #semst', 'NONE'), ('c7german : heaven is our goal , life is our conquest #socialmedia #technology #catholic #semst', 'AGAINST'), ('pray for the navy yard . god please keep the casualties minimal . #1a #2a #nra #cos #ccot #tgdn #pjnet #wakeupamerica #semst', 'NONE'), ('if u come this country bettwr life fucking adapt usa ways #1a #2a #nra #cos #ccot #tgdn #pjnet #wakeupamerica #semst', 'NONE'), ('#antichoice never try to police men over sex , but punishing women puts them into a frenzy . #semst', 'FAVOR'), ('pro-life laws only effect women so anti choicers are fine with these laws because the laws are only hurting are females #semst', 'FAVOR'), ('anti choice laws are sexist because they only effect women * . #semst', 'FAVOR'), ('reading law cases on abortion rulings from the past years is exhausting ! #research #workhard #work #publichealth #semst', 'NONE'), ('anti-choice laws are entirely men controlling women #semst', 'FAVOR'), ('we must love our neighbor as being made in the image of god and as an object of his love . ~ saint vincent de paul #semst', 'NONE'), ('actually , child-murder is far worse these days . we live in more savage times . #semst', 'AGAINST'), (\"so anti-choice laws are telling these women they're incapable and shouldn't make decisions that involve their own body . #semst\", 'FAVOR'), ('ny pastors need to call their state senators and stop this barbaric bill ! istorture #semst', 'NONE'), (\": my views are my own . #alllivesmatter #prebornlivesmatter #abortionisviolence #whyi'mnotvotingforhillary #semst\", 'AGAINST'), ('every one in congress should attend an abortion procedure especially partial birth that they vote for #ccot #tcot #semst', 'AGAINST'), (\"good thing i don't live in kingston woulda started a riot by now with this ' pro-life ' protest #semst\", 'FAVOR'), ('while you are at it , eliminate all drugs , cars , planes , food , electricity , and anything else that may cause a death . #semst', 'NONE'), (\"there's no place for selfishness when you talk about a human life . everyone matters ! #quotes #truelovewaits #parenting #humanrights #semst\", 'AGAINST'), ('where is the childcare program which you said would be in place ? #loneparents #7istooyoung #semst', 'AGAINST'), (\"why do people think it's ok to get an abortion ... what the fuck is wrong with you ? what if your mom aborted you , you sick fuck ! #semst\", 'AGAINST'), (\"asked a protester-u'll fund the moms ? yes-so #announced it in dt #hamont-yo ppl #noabortion = these ppl wth picz will pay 4yo ' kids #semst\", 'FAVOR'), (\"i'll celebrate #independenceday when everyone in this country is equally free & not living in fear & poverty ! #equalityforall #p2 #semst\", 'NONE'), ('fair is fair if u believe an unborn child has no right to life , then ur saying i can decide if you do ? ? #semst', 'AGAINST'), ('our #truthtour continues in #carletonplace as we show the graphic truth of abortion traffic & pedestrians ! #showthetruth #onpoli #semst', 'AGAINST'), ('amandakayhowell : dear to who it may concern ; \" you stand up for my right to live . #baby #murder #righttolife #unborn #wo ... #semst', 'AGAINST'), (\"those who deny women who've been raped abortion are the same ppl who tell rape victims they asked for it . #rape #semst\", 'FAVOR'), (\"this is the same reason it's sexist that we don't cover women's birth control . any issue that primarily effects women is ignored #semst\", 'FAVOR'), ('so you\\'re at the #rally4life ? tell me more about how #antichoice laws kill 47,000 women a year ! very \" #prolife \" uh ? #repealthe8th #semst', 'FAVOR'), ('fallopians 3:16 \" not your fuckin \\' pregnancy - not your fuckin \\' business ! \" #semst', 'FAVOR'), ('#ff #patriot --> pigswalkupright . thanks following back ! ! #truth #liberty #justice #proisrael #2a #riseupamerica #proudamerican #semst', 'NONE'), ('we declare that all people have worth and value even if the whole world calls them \" unwanted \" ! #semst', 'AGAINST'), ('woman\\'s heartbreaking letter to father of baby she aborted : \" i\\'m so very sorry - lifenews . please pray for the men hurt by abortion #semst', 'AGAINST'), (\"' snarck ' - a snarky hack who puts down ordinary folk who dares question their pontifical commentaries #semst\", 'NONE'), ('next time just keep the baby #semst', 'AGAINST'), ('so the #democrats tore down their own #confederateflag now if they get rid of their #kkk #blackpanthers #alsharpton #hate #semst', 'NONE'), ('. since when did toronto become a weak city ? bullied by stone-age cab companies that block traffic illegally . #to4uber #semst', 'NONE'), ('pro-choicers are basically tryna fight oppression with more oppression . #feminist #semst', 'AGAINST'), (\": . something you hate . people who don't believe abortion should be kept safe and sterile . #semst\", 'FAVOR'), (\"#populationcontrol = controlling the incoming generations . that's why there's #demographicwinter #epicfail #philippines #rhlaw . #semst\", 'AGAINST'), (\"you can't say you support women's rights but be against abortion #semst\", 'FAVOR'), ('i support because i want to see planned parenthood gone . #semst', 'AGAINST'), ('what do u call #teens hu got #pregnant even while ingesting contraceptives ? success ? can a chaste girl get pregnant ? #semst', 'NONE'), ('i cannot believe there are still people in this century who opposed to women having rights over their own bodies ! #disgusted #semst', 'FAVOR'), (\"#rally4life because if they don't want an abortion , then no one can have the choice #semst\", 'FAVOR'), ('to run outside ? to run inside ? #semst', 'NONE'), ('i just unfollowed someone because they tweeted about being pro-life #semst', 'FAVOR'), ('for he who avenges blood remembers , he does not ignore the cry of the afflicted . ~ ps 9:12 #comequicklylordjesus #semst', 'NONE'), ('watch out for censorship in your news and media ! #politicalrevolution #immigration #rednationrising #constitution #corruptmedia #semst', 'NONE'), ('#gop as whole party has backwards ideas on #immigration #votingrights #womensright #civilrights . #healthcare #dapa #semst', 'NONE'), ('. perhaps you want to go to the fertility clinics & rescue them all . how many can you fit in your womb . #clowncar #semst', 'FAVOR'), ('hi while you are campaigning , innocent lives were killed by your pals #rednationrising #uniteblue #semst', 'AGAINST'), ('if men were the ones that got preganant this would be a non issue in america #bernie2016 #womensrights #solidarity #semst', 'FAVOR'), (\"monk's hobbit is back in twitter . #catholics #semst\", 'NONE'), (\"solidarity with all at the counter #rally4life - ireland won't be equal until women have full control of our bodies #repealthe8th #semst\", 'FAVOR'), (\"who is for it . i'm not . but am for a women's right to her own body . #semst\", 'FAVOR'), (\"you can't handle the truth ! people will always do it no matter the laws . #letdoctorsdoit #semst\", 'FAVOR'), (\"can't wait to see you on #jizismyname #electronicadrugdealer #jiz #semst\", 'NONE'), ('we must always see others as christ sees us , we must see god in all things & remeber look past sin #romancatholic #semst', 'AGAINST'), ('if we are pronounced dead when our heart stops , why are we not pronounced alive when our heart starts ? #semst', 'AGAINST'), ('. there is no such thing as a \" safe & alive \" abortion because every abortion that goes as intended leaves > = dead #semst', 'AGAINST'), ('what nonsense is this colleague of yours writing about ? ? #everylifematters #semst', 'AGAINST'), (\"it's undeniable that conception may also be the birth of a soul unto life itself . why mess with that ? #semst\", 'AGAINST'), ('just been having rather horrible discussion with - reminder that we have a long way to go . #humanrights #healthcare #semst', 'NONE'), ('helping achieve repro . justice step a time . #abfunds #love #compassion #abortionrights #nnaf #semst', 'FAVOR'), ('was at the planned parenthood protest in #fitchburg today with the image of our lady of america #catholic #semst', 'AGAINST'), ('the beauty of the morning seems ruined knowing abortion clinics open soon . another day of + lives lost to & friends . #semst', 'AGAINST'), (\"i know ! i'm the only perfect :-) candidate . #procivilliberties #probusiness #proworker #propeace #semst\", 'NONE'), ('damn , interesting news when you find out you were almost a product of abortion #semst', 'AGAINST'), ('the culture of death is \" #prolife \" who deny pregnant people healthcare . #semst', 'FAVOR'), ('#iccpr report does not cite any reasons for the changes in the legislation regulating . #macedonia #law # #semst', 'NONE'), ('a much needed days with these guys missed but what a weekend #semst', 'NONE'), (\": i don't * believe * life begins at conception--i * know * life begins at conception . #nrlc2015 #semst\", 'AGAINST'), (\"i'm totally cool with this image . was the fetus unviable ? health at risk ? #semst\", 'FAVOR'), (\"meet the press admitted to being very pro-choice even with late term & partial birth abortions . he's sick ! #semst\", 'AGAINST'), ('i have a right to identify as pregnant and have an abortion . having an abortion confirms my power of choice . #pregnancyforall #semst', 'AGAINST'), ('there should be no law or funding which justifies the murder of innocent life . #ccot #pjnet #semst', 'AGAINST'), ('sad this is what has to be done for women in need #semst', 'NONE'), ('not your uterus , not your choice--from conception on , it really is that simple ! #fem2gen #yesallwomen #semst', 'FAVOR'), (\"i'm kind of scared for the elderly in our country . in a few years , we'll be aborting them too . #americathesocialist #semst\", 'AGAINST'), (\"not sure where i stand on god and religion . still , don't need to be a christian or religious to be against abortion . #evil #semst\", 'AGAINST'), ('pregnant people have more than heartbeats . they have feelings , and the ability to make decisions about their health . #semst', 'FAVOR'), ('i #denounceharper because his religious ties are responsible for the #marchforlife anti-choice rallies on parliament hill . #semst', 'FAVOR'), (\"this #rally4life shit ! how people support it i'll never understand . #semst\", 'FAVOR'), ('so you\\'ve blown right past the whole \" women stopped dying after rvw \" thing . #prolifelie #hashtagitall #semst', 'AGAINST'), ('obama administration sends 5.6 million dollars to #semst', 'NONE'), ('before i formed you in the womb i knew you , before you were born i set you apart - jeremiah 1:5 #godislove #youareloved #semst', 'AGAINST'), (\"just saw your review of ' s book at amazon . i have to say i totally agree with you . a sick marketing ploy . #semst\", 'NONE'), ('it very simple .. let women choose .. #repealthe8th #notacriminal #semst', 'FAVOR'), ('i can think of a thousand things more important than keith olbermann . #sanctuarycities #irsscandal #benghazi #bergdahl #usdebt #semst', 'NONE'), ('dear to who it may concern ; \" you stand up for my right to live . #baby #murder #righttolife #unborn #womensrights #legal #semst', 'AGAINST'), ('prayers for babies three babies in urgent need of prayer and intervention in dallas tx and another in montgomery al #semst', 'AGAINST'), ('both r #human . 1e u abuse with misinformation ( #women ) n d other u kill by #baby #semst', 'AGAINST'), ('#hdr - top set up in the warm up area ... chilling and chatting with before the racing . #topriders #semst', 'NONE'), (\"then make sure udon't get pregnant . and don't kill your child if you do ! you are the mom responsible 4child ' s life ! #semst\", 'AGAINST'), (\"al robertson's mom #duckdynasty chose life as an unwed year old . #semst\", 'AGAINST'), ('thank you again to show that you are against contraception . \" #prolife \" = a code word for #misogyny . #semst', 'FAVOR'), ('liberals say i need more tolerance . i say screw tolerating murder . #abortionkills #toleranceisdeath #semst', 'AGAINST'), (\"why are tumblr feminists so territorial ? pro-lifers can't even voice their opinions without being attacked . #prolifeproblems #semst\", 'AGAINST'), (\"i'm good like this . i've always been #semst\", 'NONE'), (\"a fetus is not living , breathing , born , sentient , or autonomous which is why the pregnant woman's choice matters more #semst\", 'FAVOR'), (\"who defends murder here ? i haven't heard anyone defending the killing of human beings . #semst\", 'FAVOR'), ('living in a pub isnt all that good when your friends turn into alcoholics #refresher #smurf #noonewillunderstand #semst', 'NONE'), ('giving birth is not pushing women toward death . #semst', 'AGAINST'), (\"it isn't going to happen . the lw and the rw have too many differences . #foreignpolicy #healthcarelegislation #economics #semst\", 'NONE'), ('#fiona bruce wants a government that forces women to have children , and then refuses to financially help them . #bodyautonomy #semst', 'FAVOR'), ('i would never expect an year old girl to have to carry a pregnancy to term #semst', 'FAVOR'), ('today is a great because we are alive . #semst', 'NONE'), ('1.2 % of abortions happen at weeks + ( these are only exceptions ) #letstalkabortion #semst', 'NONE'), ('if #freewill is good enough for your #god it should be good enough for you . #semst', 'FAVOR'), ('evidence proves that morbidity & mortality rates of legal abortion r a lot higher dan carrying pregnancy term #teens #semst', 'AGAINST'), (\"people don't care about things that don't effect men which is the same reason it's sexist we don't cover birth control #semst\", 'FAVOR'), ('in we killed the conservatives , freed ourselves from that crap #rightwing #christian #churchstate #tyranny . #uniteblue #tcot #semst', 'NONE'), ('it is not pro-life if you ignore life of the pregnant woman ; that includes physical / mental health.isprolife #semst', 'FAVOR'), ('yea , let\\'s make a woman suffer years and raise a child with an unfit parent who hates it because of \" morality \" . #semst', 'FAVOR'), ('or these dumb anti-abortion #showthetruth assholes who sit on canadian streets with inaccurate disturbing pics ! #semst', 'FAVOR'), (\"you're truly unwelcome here . please leave . #ygk #semst\", 'NONE'), ('u dont know using #naturalfamilyplanning will not have the same effect as birth spacing ? #semst', 'AGAINST'), ('surprised ? a poll sponsored by biased was always going to give a pro-abortion result #repealthe8th #semst', 'AGAINST'), (\"so , you support the choice of wether or not you'd like to kill someone ? would you kill a born baby ? #semst\", 'AGAINST'), (\"if the pope gave a flying fuck about the poor on his home continent , he'd let them have abortion and birth control . #semst\", 'FAVOR'), (\"of course an embryo is a person ! if it were a puppy there'd be no desire to abort it . #semst\", 'AGAINST'), ('a prochoice advocate but circumcise ur baby ? fucking hypocrite ! #circumcision #humanrights #semst', 'AGAINST'), ('pro choice ? just choose to kill yourself after your baby is born . #semst', 'AGAINST'), ('bullshit multiplied by bullshit is still bullshit . #semst', 'NONE'), ('i thought they wanted less unwed mommas and less abortion . #confused #tcot #feminism #semst', 'FAVOR'), (\"right , where are the pre-born women's rights ? #alllivesmatter #equalrights #semst\", 'AGAINST'), ('those who wonder what they would have done had they lived at the time of some terrible injustice now know the answer - p . hitchens #semst', 'AGAINST'), ('natural family planning isn\\'t \" planning \" at all since it just doesn\\'t work . #semst', 'FAVOR'), ('congrats to my friends at and for their commitment in getting pain-capable act passed . #wiright #theyfeelpain #semst', 'AGAINST'), ('people with a uterus can be pro choice . people who have been pregnant can be pro choice . people who lost a child can be prochoice #semst', 'FAVOR'), ('the most fundamental right of them all , the right to life , is also a right of the unborn . #semst', 'AGAINST'), ('the government has not been able to point to any improved health outcomes for women #law #macedonia #hrctte #semst', 'NONE'), ('rt : god is the author of life and nobody has the right to take it . #semst', 'AGAINST'), (\"like % of antis don't care about breathing viable persons , and % care about embryos more #semst\", 'FAVOR'), (\"lol . i don't know about that . #schoolprayer #govtendorsementofheterosexualmarriage #semst\", 'NONE'), ('life is sacred on all levels . abortion does not compute with my philosophy . kate mulgrew ( red on #oitnb ) #semst', 'AGAINST'), (\"antis don't care because the only people the laws are hurting are females and they don't care about things that don't effect men #semst\", 'FAVOR'), (\"sorry hilary but i'm #southern and don't bleed that #rainbow #bleedred #america #southwillriseagain #semst\", 'NONE'), ('and accepting with love any children arising from union of marriage or at least taking responsibility for life created #semst', 'AGAINST'), ('i will visit pei when all women can get a lawful medical abortion on the island . #cdnpoli #peipoli #womensrights #semst', 'FAVOR'), ('rt : \" why does the government not hold a referendum on abortion ? \" asks un cescr mbr pillay #unirl #semst', 'FAVOR'), ('the irony of margaret sanger wanting to rid the world of blacks . #semst', 'AGAINST'), ('dear proaborts : using bad grammar and filthy language and intimidation makes you look ignorant , inept and desperate . #godwins #semst', 'AGAINST'), (\"it's sad to see so many people getting their values from hollywood rather than the holy scriptures . #prolifeyouth #semst\", 'AGAINST'), ('the justification of abortion is rooted in selfishness & fear & they come from lack of faith & self centeredness #semst', 'AGAINST'), (\"i'm curious mary are you a meat eater and an animal hide wearer ? #semst\", 'NONE'), ('what are they doing with acid signs oh yeah their all tripping #lsd #semst', 'NONE'), ('\" natural \" family planning isn\\'t \" planning \" at all since it just doesn\\'t work . #semst', 'FAVOR'), ('prayers for babies urgent prayer one in lexington ky & two in dallas tx & in chattanooga tn life begins at conception #semst', 'AGAINST'), ('i #denounceharper for refusing to include family planning in foreign aid even though spending $ could save $ #wheresthefp #semst', 'FAVOR'), ('mathewsjeanne thank you your very #kind rt . god bless you #patriot . #babies matter #semst', 'AGAINST'), ('why would i want to make choices about my own body , when a congressman could do it for me ? #conversationswithalex #semst', 'FAVOR'), (\"abortions should never be illegal . it should be the pregnant person's choice . especially if that person was rape #semst\", 'FAVOR'), ('like how can you sit there and even go through with the process #semst', 'NONE'), ('cpcs in this town of : . #goddamn #semst', 'NONE'), ('you can\\'t give the \" death penalty \" to something not living sentient or autonomous #waronwomen #roe42 #reprohealth #semst', 'FAVOR'), (\"abortion is genocide - i don't think you know what genocide means . #ygk #semst\", 'AGAINST'), ('generate belief in quality existence for everyone especially children in that community . kittington #semst', 'NONE'), ('\" freedom of expression ? does that mean that i can display pornography in public if i am against it ? #semst', 'NONE'), (\"i'm really pissed off by vaccines mandates . it's not ok to force parents to inject their kids when there might be consequences . #semst\", 'NONE'), ('basically this documentary is \" you kill babies so we\\'re going to kill you \" lol the irony of pro-lifers . #aftertiller #semst', 'FAVOR'), ('oh you dont like that im pro-choice . pftt . dont try to force me to be pro-life . fuck off #sorrynotsorry #semst', 'FAVOR'), (\"every needs c & ' s movie #therallyla . it's life transforming . #drugs #forgive #swbc2015 #salvation #semst\", 'NONE'), (\"so ariana grande hates america & americans ? she's not alone #scotus #hillary #obama #democrats #aclu #naacp #hamas #isis #semst\", 'NONE'), (\"pro-choice =p ro-life . anti-choice = anti-life . don't play righteous when you're advocating the endangerment of women . #womensrights #semst\", 'FAVOR'), ('we do care about the hurt inflicted upon preborn children through #abortion . #truthtour #ottawa #semst', 'AGAINST'), ('wish i could be at the #rallyforlife counter protest . women are people . fetuses are clumps of cells . end of story . #ireland #semst', 'FAVOR'), (\"antichoice laws say women can't make their own decisions #semst\", 'FAVOR'), ('are you a triceratops or tricerabottom ? #arethosehornsyourewearing #semst', 'NONE'), ('it is no less your child before or after birth . one continuum of life . #semst', 'AGAINST'), ('i do not want to bring a child into this dangerous patriarchy . but i want to feel pregnancy as an experience #pregnancyforall #semst', 'AGAINST'), ('would you rather have women taking dangerous concoctions to induce abortions or know they are getting a safe & legal one ? #semst', 'FAVOR'), ('i followed him before i watched human centipede ... i now hope never makes another film again #semst', 'NONE'), ('in so many ways to christians right here in america we already are the \" great satan \" #gaymarriage #drugs #wakeupamerica #semst', 'NONE'), ('for great is thy mercy toward me ; & thou hast delivered my soul from an evil place . amen #christian #semst', 'NONE'), ('no new human individual formed at conception ! full complement of human chromosomes unique individual dna and alive . #semst', 'AGAINST'), (\"anti choice laws only effect women . people don't care about things that don't effect men #semst\", 'FAVOR'), ('the unborn also have rights #defendthe8th #semst', 'AGAINST'), ('happy july 4th - freedom day ! let liberty ring out ! #freedom #faith #jesus #revival #life #tcot #semst', 'NONE'), (\"praise report two babies savedone in dallas tx & in charlotte nc if we put forth effort with prayer - miracle's happen #semst\", 'NONE'), ('#defentthe8th ? why would i defend something that kills people ? remember #savita , killed by irish \" #prolife \" laws ? #repealthe8th #semst', 'FAVOR'), ('protect them by informing #hiv s acquired by having sex even wen using #condoms high #risk of acquiring it #teens #semst', 'NONE'), ('when declaration of independence was adopted , abortion was illegal in all colonies . #txlege #semst', 'AGAINST'), ('repent wen u commit a grave act like murder of a baby did u #abort ur baby ? yes ? then you repent ! #hell s eternity #semst', 'AGAINST'), ('what about in cases of rape #semst', 'FAVOR'), ('it\\'s never been about \" life \" has it ? \" #prolife \" are ok with women dying . #semst', 'FAVOR'), ('lord jesus , touch my life with your saving power , heal and restore me to fullnessof life . #semst', 'NONE'), ('hail ( mary ) , full of grace ! the lord is with you . ( luke 1:28 ) #semst', 'NONE'), ('only one can have bodily autonomy #semst', 'FAVOR'), (\"well said . men are playing political football with women's right to have control over our bodies . #fail #semst\", 'FAVOR'), ('the #rally4life shows yet again what little support these people have . #repealthe8th #semst', 'FAVOR'), (\"#rally4life more like rally for people who think they have the right to authorise other people's decisions #semst\", 'FAVOR'), (\"yes . antis just don't make sense . #waronwomen #semst\", 'NONE'), (\"our #truthtour cont ' in the as we show the humanity of the unborn & inhumanity of abortion ! #cdnpoli #ottawa #onpoli #semst\", 'AGAINST'), (\"i don't know about you , but i didn't vote for the gop to capitulate to the dems . #alllivesmatter #semst\", 'AGAINST'), (\"#rally4life motherhood is for some much-wanted , for others it is not.it should be by choice , not by force . respect women's choices #semst\", 'FAVOR'), ('u refer to \" we \" which = \" you \" & a minority of idiots who support #suicide #murder #death #illegalaliens #ravensymone #semst', 'AGAINST'), ('does the gay community support abortion ? #prolifeyouth #lgbtpridemonth #semst', 'AGAINST'), ('and don\\'t forget , now \" private clubs \" and organizations . aka ~ > #girlscouts & #semst', 'NONE'), ('ur not aware that using #naturalfamilyplanning will have d same effect as birth spacing ? #semst', 'AGAINST'), ('en route to parnell square for the rally for life ! ! #everylifematters #semst', 'AGAINST'), ('#nothingmoreamericanthan unjustified homicide of the unborn in #semst', 'AGAINST'), (\"looking forward to the protest today . i can't be there long but i hope my signs will . #kingston #protesters #semst\", 'NONE'), ('the most horrific violence in america is the war on babies . #semst', 'AGAINST'), ('if truth is a micro aggression the left why is name calling by the left not a mega hypocrisy ? #uniteblue #libcrib #maddow #semst', 'NONE'), (\"being a democrat is never having to say you're sorry ... #slavery #segregation #kkk #semst\", 'NONE'), (\"in turkey at ze momento , just got internet and started reading ' s tweets , literally just killing it ! ! #semst\", 'NONE'), ('i get several requests with petitions to save whales but never to stop the slaughter of babies in the wombs of mothers . #abortion . #semst', 'AGAINST'), (\"these poor souls won't be anything in the future encouraged women to murder babies . #blacklivesmatter #semst\", 'AGAINST'), (\", when is ms c case you've been promising happening ? when'll a court be asked adjudicate her claims ? #repealthe8th #semst\", 'FAVOR'), ('people like you are exactly what is wrong with our society . #procontraception #unapologetic #semst', 'AGAINST'), (\"i'm against abortion , gay marriage , and donald trump for president . #gaymarriage #donaldtrump #semst\", 'AGAINST'), (\"every year i see #rally4life ads & think ' that sounds great ! ' stop tricking me into thinking you want sth positive ! #repealthe8th #semst\", 'FAVOR'), ('abortionists and their supporters are the real misogynists ! #catholic #christian #progressive #liberal #semst', 'AGAINST'), ('and an even worse place from which to make medical decisions for other people #mybodymychoice #notyours #notgovt #semst', 'FAVOR'), ('just wanted to say that i appreciate the pro life stance . a lot of celebrities are afraid to show a bold stance #lfo #semst', 'AGAINST'), (\"but of course today one doesn't have to be responsible you can kill your child instead ! #semst\", 'AGAINST'), ('where is #silenceddiscourse for questions on #divisions #schoolchoice #taxes #doublestandard #biased #semst', 'NONE'), ('a bundle of cells feels more pain than a fully grown women ? no . #semst', 'FAVOR'), ('leftist , progressives love 2lie & claim they believe in god , but if they do they would never support #gaymarriage #obamacare #semst', 'AGAINST'), (\"it's not that i don't want to be at work . it's that i rather be asleep . #semst\", 'NONE'), ('fyi : whoopi goldberg is a feminist hero for her six abortions . #womenagainstfeminism #semst', 'AGAINST'), ('every time i \" discuss \" with \" #prolife \" it reaffirms my belief that #antichoice are complete idiots . #semst', 'FAVOR'), ('yes , an occasional hypocrite . i support #marriageequaility & abhor #semst', 'NONE'), ('d real question is . do u even research d side effects of abortion and contraceptives ? #knowyourfacts #semst', 'AGAINST'), (\"where's the most dangerous place for a child ? in the hands of an isis terrorist ? almost . inside their mother's womb #middleamerica #semst\", 'AGAINST'), ('please vote against the anti-choice amendment to the scotland bill on monday - thanks ! #abortionrights #semst', 'FAVOR'), (': postinor is popularly used for ? #mrchocho_babyokoko #semst', 'NONE'), ('you sponsored the religious freedom bill . what is this bill that allows killing full term babies in ny ? #tcot #semst', 'AGAINST'), ('get out of my city . #ygk #semst', 'NONE'), ('if they made it illegal , people would use coat hangers , and your photos would really be messed up . #letdoctorsdoit #semst', 'FAVOR'), (\"like i said i'm glad this medical procedure is around so that pregnant people stay healthy . #semst\", 'NONE'), ('i think a woman should have the choice of what to do with her body .. but , what do i know ? im only a woman sure #semst', 'FAVOR'), ('dear america : if only a 3d ultrasound picture could evoke the same emotional response . #lifeisprecious #semst', 'AGAINST'), ('need a prolife r . e . agent ? - support a prolife group ( u-choose ) at nocost proliferealestate@yahoo.com #semst', 'AGAINST'), ('you can say that again ! #abortionismurder #alllivesmatter #prolifeyouth #semst', 'AGAINST')]\n"
     ]
    }
   ],
   "source": [
    "\n",
    "## Train\n",
    "traindata['Text'] = traindata['Tweet'].apply(lambda x: my_preprocess(x))\n",
    "\n",
    "# Shifts the order on the original tweet list\n",
    "sample_train = traindata.sample(frac=1.0)\n",
    "\n",
    "text_train, label_train = sample_train['Text'], sample_train['Stance']\n",
    "\n",
    "\n",
    "\n",
    "\n",
    "## Validation\n",
    "validationdata['Text'] = validationdata['Tweet'].apply(lambda x: my_preprocess(x))\n",
    "\n",
    "# Shifts the order on the original tweet list\n",
    "sample_valid = validationdata.sample(frac=1.0)\n",
    "\n",
    "text_valid, label_valid = sample_valid['Text'], sample_valid['Stance']\n",
    "\n",
    "\n",
    "\n",
    "## Test\n",
    "testdata['Text'] = testdata['Tweet'].apply(lambda x: my_preprocess(x))\n",
    "\n",
    "sample_test = testdata.sample(frac=1.0)\n",
    "\n",
    "text_test, label_test = sample_test['Text'], sample_test['MyLabeling']\n",
    "\n",
    "print(list(zip(text_test, label_test)))"
   ]
  },
  {
   "cell_type": "markdown",
   "metadata": {},
   "source": [
    "# Vectorize"
   ]
  },
  {
   "cell_type": "markdown",
   "metadata": {},
   "source": [
    "Using a word count Matrix"
   ]
  },
  {
   "cell_type": "code",
   "execution_count": 211,
   "metadata": {},
   "outputs": [],
   "source": [
    "\n",
    "vectorizer = CountVectorizer(\n",
    "    binary=True, min_df=0.002, max_df=0.55, ngram_range=(1, 4),\n",
    "    #stop_words=stopwords.words('spanish')\n",
    ")\n",
    "\n",
    "X = vectorizer.fit_transform(pd.concat([text_train, text_valid, text_test]))\n",
    "X_train = X[:297]\n",
    "X_valid = X[297:428]\n",
    "X_test = X[428:]"
   ]
  },
  {
   "cell_type": "markdown",
   "metadata": {},
   "source": [
    "# Fasttext"
   ]
  },
  {
   "cell_type": "markdown",
   "metadata": {},
   "source": [
    "### Create a csv file with the label format that fasttext needs"
   ]
  },
  {
   "cell_type": "code",
   "execution_count": 177,
   "metadata": {},
   "outputs": [],
   "source": [
    "with open(\"fasttext_train.txt\", 'w') as w:\n",
    "    for (text, label) in zip(text_train, label_train):\n",
    "        w.write(\"{} __label__{}\\n\".format(text, label))\n",
    "w.close()"
   ]
  },
  {
   "cell_type": "markdown",
   "metadata": {},
   "source": [
    "### Train"
   ]
  },
  {
   "cell_type": "code",
   "execution_count": 261,
   "metadata": {},
   "outputs": [],
   "source": [
    "# Find the best number of epochs in order not to overfit\n",
    "best_epoch = 0\n",
    "best_f1 = 0\n",
    "for epoch in [5000, 7000, 10000, 12000, 15000]:    \n",
    "    model = fasttext.train_supervised('fasttext_train.txt', lr=0.001, dim=500, epoch=epoch)\n",
    "    \n",
    "    # Evaluate\n",
    "    tweet_selected = []\n",
    "    predictions = []\n",
    "    label_valid_selection = []\n",
    "    for tweet, label in zip(text_valid, label_valid):\n",
    "        prediction = model.predict(tweet)\n",
    "        if prediction[1][0] > 0.95:\n",
    "            tweet_selected.append(tweet)\n",
    "            predictions.append(prediction)\n",
    "            label_valid_selection.append(label)\n",
    "    pred_labels = [pred[0][0].replace('__label__','') for pred in predictions]\n",
    "#     print(list(zip(label_valid_selection, pred_labels)))\n",
    "    current_f1 = f1_score(label_valid_selection, pred_labels, average=\"micro\", labels=['AGAINST','FAVOR','NONE'])\n",
    "    if current_f1 > best_f1:\n",
    "        best_epoch = epoch\n",
    "        best_f1 = current_f1"
   ]
  },
  {
   "cell_type": "code",
   "execution_count": 262,
   "metadata": {},
   "outputs": [
    {
     "data": {
      "text/plain": [
       "0.85"
      ]
     },
     "execution_count": 262,
     "metadata": {},
     "output_type": "execute_result"
    }
   ],
   "source": [
    "model = fasttext.train_supervised('fasttext_train.txt', lr=0.001, dim=500, epoch=best_epoch)\n",
    "best_f1\n",
    "\n",
    "# list(zip(tweet_selected, predictions, label_valid_selection))"
   ]
  },
  {
   "cell_type": "code",
   "execution_count": 263,
   "metadata": {},
   "outputs": [
    {
     "data": {
      "text/plain": [
       "7000"
      ]
     },
     "execution_count": 263,
     "metadata": {},
     "output_type": "execute_result"
    }
   ],
   "source": [
    "best_epoch"
   ]
  },
  {
   "cell_type": "markdown",
   "metadata": {},
   "source": [
    "### Test"
   ]
  },
  {
   "cell_type": "code",
   "execution_count": 264,
   "metadata": {},
   "outputs": [
    {
     "name": "stdout",
     "output_type": "stream",
     "text": [
      "fyi : unborn babies diagnosed with a disability in the womb can feel pain just as much as a baby without a diagnosis #theyfeelpain #semst\n",
      "(('__label__AGAINST',), array([0.99789083]))\n",
      "AGAINST\n",
      "where is #silenceddiscourse for #divisions on #schoolchoice #taxes #doublestandard #biased #semst\n",
      "(('__label__NONE',), array([0.95301467]))\n",
      "NONE\n",
      "if it's not a person then why do women get invitro ? to have a gold fish ? #semst\n",
      "(('__label__FAVOR',), array([0.95905626]))\n",
      "AGAINST\n",
      "these dems ' lack of compassion for unborn babies who receive prenatal diagnoses is appalling #theyfeelpain #semst\n",
      "(('__label__AGAINST',), array([0.99868721]))\n",
      "AGAINST\n",
      "anti choice laws are sexist because they only effect women * . #semst\n",
      "(('__label__FAVOR',), array([0.98048228]))\n",
      "FAVOR\n",
      "anti-choice laws are entirely men controlling women #semst\n",
      "(('__label__FAVOR',), array([0.98600876]))\n",
      "FAVOR\n",
      "so anti-choice laws are telling these women they're incapable and shouldn't make decisions that involve their own body . #semst\n",
      "(('__label__FAVOR',), array([0.9717648]))\n",
      "FAVOR\n",
      ": . something you hate . people who don't believe abortion should be kept safe and sterile . #semst\n",
      "(('__label__FAVOR',), array([0.98099655]))\n",
      "FAVOR\n",
      "you can't say you support women's rights but be against abortion #semst\n",
      "(('__label__FAVOR',), array([0.98649991]))\n",
      "FAVOR\n",
      "monk's hobbit is back in twitter . #catholics #semst\n",
      "(('__label__NONE',), array([0.99645561]))\n",
      "NONE\n",
      "who is for it . i'm not . but am for a women's right to her own body . #semst\n",
      "(('__label__FAVOR',), array([0.9749788]))\n",
      "FAVOR\n",
      "i have a right to identify as pregnant and have an abortion . having an abortion confirms my power of choice . #pregnancyforall #semst\n",
      "(('__label__FAVOR',), array([0.98727548]))\n",
      "AGAINST\n",
      "evidence proves that morbidity & mortality rates of legal abortion r a lot higher dan carrying pregnancy term #teens #semst\n",
      "(('__label__AGAINST',), array([0.95617485]))\n",
      "AGAINST\n",
      "people with a uterus can be pro choice . people who have been pregnant can be pro choice . people who lost a child can be prochoice #semst\n",
      "(('__label__FAVOR',), array([0.99242663]))\n",
      "FAVOR\n",
      "abortions should never be illegal . it should be the pregnant person's choice . especially if that person was rape #semst\n",
      "(('__label__FAVOR',), array([0.98299164]))\n",
      "FAVOR\n",
      "cpcs in this town of : . #goddamn #semst\n",
      "(('__label__NONE',), array([0.97007906]))\n",
      "NONE\n",
      "pro-choice =p ro-life . anti-choice = anti-life . don't play righteous when you're advocating the endangerment of women . #womensrights #semst\n",
      "(('__label__FAVOR',), array([0.97797191]))\n",
      "FAVOR\n",
      "would you rather have women taking dangerous concoctions to induce abortions or know they are getting a safe & legal one ? #semst\n",
      "(('__label__FAVOR',), array([0.97567946]))\n",
      "FAVOR\n",
      "anti choice laws only effect women . people don't care about things that don't effect men #semst\n",
      "(('__label__FAVOR',), array([0.99821615]))\n",
      "FAVOR\n",
      "the unborn also have rights #defendthe8th #semst\n",
      "(('__label__AGAINST',), array([0.96373576]))\n",
      "AGAINST\n",
      "well said . men are playing political football with women's right to have control over our bodies . #fail #semst\n",
      "(('__label__FAVOR',), array([0.97426564]))\n",
      "FAVOR\n",
      "our #truthtour cont ' in the as we show the humanity of the unborn & inhumanity of abortion ! #cdnpoli #ottawa #onpoli #semst\n",
      "(('__label__AGAINST',), array([0.97364861]))\n",
      "AGAINST\n",
      "does the gay community support abortion ? #prolifeyouth #lgbtpridemonth #semst\n",
      "(('__label__AGAINST',), array([0.98410803]))\n",
      "AGAINST\n",
      "where is #silenceddiscourse for questions on #divisions #schoolchoice #taxes #doublestandard #biased #semst\n",
      "(('__label__NONE',), array([0.95301467]))\n",
      "NONE\n",
      "you can say that again ! #abortionismurder #alllivesmatter #prolifeyouth #semst\n",
      "(('__label__AGAINST',), array([0.95656985]))\n",
      "AGAINST\n",
      "['AGAINST', 'NONE', 'FAVOR', 'AGAINST', 'FAVOR', 'FAVOR', 'FAVOR', 'FAVOR', 'FAVOR', 'NONE', 'FAVOR', 'FAVOR', 'AGAINST', 'FAVOR', 'FAVOR', 'NONE', 'FAVOR', 'FAVOR', 'FAVOR', 'AGAINST', 'FAVOR', 'AGAINST', 'AGAINST', 'NONE', 'AGAINST']\n",
      "['AGAINST', 'NONE', 'AGAINST', 'AGAINST', 'FAVOR', 'FAVOR', 'FAVOR', 'FAVOR', 'FAVOR', 'NONE', 'FAVOR', 'AGAINST', 'AGAINST', 'FAVOR', 'FAVOR', 'NONE', 'FAVOR', 'FAVOR', 'FAVOR', 'AGAINST', 'FAVOR', 'AGAINST', 'AGAINST', 'NONE', 'AGAINST']\n"
     ]
    }
   ],
   "source": [
    "predictions = []\n",
    "label_test_selection = []\n",
    "for tweet, label in zip(text_test, label_test):\n",
    "    prediction = model.predict(tweet)\n",
    "    if prediction[1] > 0.95:\n",
    "        print(tweet)\n",
    "        print(prediction)\n",
    "        print(label)\n",
    "        predictions.append(prediction[0][0].replace('__label__', ''))\n",
    "        label_test_selection.append(label)\n",
    "\n",
    "print(predictions)\n",
    "print(label_test_selection)"
   ]
  },
  {
   "cell_type": "code",
   "execution_count": 265,
   "metadata": {},
   "outputs": [
    {
     "data": {
      "text/plain": [
       "0.92"
      ]
     },
     "execution_count": 265,
     "metadata": {},
     "output_type": "execute_result"
    }
   ],
   "source": [
    "f1_score(label_test_selection, predictions, average=\"micro\", labels=['AGAINST','FAVOR','NONE'])\n",
    "\n",
    "# With 340 epochs an lr = 0.01, best result so far:\n",
    "# micro: 0.5607142857142857, macro: 0.4753850446808366, per_class=[0.69411765, 0.41860465, 0.31343284]"
   ]
  },
  {
   "cell_type": "code",
   "execution_count": 35,
   "metadata": {},
   "outputs": [
    {
     "name": "stdout",
     "output_type": "stream",
     "text": [
      "mathewsjeanne thank you your very #kind rt . god bless you #patriot . #babies matter #semst... AGAINST vs AGAINST\n",
      "good thing i don't live in kingston woulda started a riot by now with this ' pro-life ' protest #semst... FAVOR vs AGAINST\n",
      "so you've blown right past the whole \" women stopped dying after rvw \" thing . #prolifelie #hashtagitall #semst... AGAINST vs AGAINST\n",
      "like i said i'm glad this medical procedure is around so that pregnant people stay healthy . #semst... NONE vs FAVOR\n",
      ". perhaps you want to go to the fertility clinics & rescue them all . how many can you fit in your womb . #clowncar #semst... AGAINST vs AGAINST\n",
      "not your uterus , not your choice--from conception on , it really is that simple ! #fem2gen #yesallwomen #semst... FAVOR vs NONE\n",
      "& purely physical enjoyment with no responsibility attached #semst... NONE vs NONE\n",
      "we do care about the hurt inflicted upon preborn children through #abortion . #truthtour #ottawa #semst... AGAINST vs AGAINST\n",
      "leftist , progressives love 2lie & claim they believe in god , but if they do they would never support #gaymarriage #obamacare #semst... AGAINST vs NONE\n",
      "these dems ' lack of compassion for unborn babies who receive prenatal diagnoses is appalling #theyfeelpain #semst... AGAINST vs AGAINST\n",
      "amandakayhowell : dear to who it may concern ; \" you stand up for my right to live . #baby #murder #righttolife #unborn #wo ... #semst... AGAINST vs NONE\n",
      "#hdr - top set up in the warm up area ... chilling and chatting with before the racing . #topriders #semst... NONE vs AGAINST\n",
      "i thought they wanted less unwed mommas and less abortion . #confused #tcot #feminism #semst... AGAINST vs AGAINST\n",
      "bullshit multiplied by bullshit is still bullshit . #semst... AGAINST vs AGAINST\n",
      "#fiona bruce wants a government that forces women to have children , and then refuses to financially help them . #bodyautonomy #semst... FAVOR vs AGAINST\n",
      "i wonder if #antichoice ever wonder if the pregnant #teen they denied accurate #sexed to could have been the one to cure cancer . #semst... FAVOR vs NONE\n",
      "if #freewill is good enough for your #god it should be good enough for you . #semst... AGAINST vs NONE\n",
      "for great is thy mercy toward me ; & thou hast delivered my soul from an evil place . amen #christian #semst... AGAINST vs NONE\n",
      "but of course today one doesn't have to be responsible you can kill your child instead ! #semst... AGAINST vs AGAINST\n",
      "u refer to \" we \" which = \" you \" & a minority of idiots who support #suicide #murder #death #illegalaliens #ravensymone #semst... AGAINST vs AGAINST\n",
      "the idea that a \" fetus \" isn't human is outrageous , i mean what else would it be ? a dog ? a dragon ? the unborn are human beings ! #semst... AGAINST vs AGAINST\n",
      "the sanctity of human life is not a woman's issue . #antifeminism #semst... AGAINST vs AGAINST\n",
      ", when is ms c case you've been promising happening ? when'll a court be asked adjudicate her claims ? #repealthe8th #semst... AGAINST vs NONE\n",
      "al robertson's mom #duckdynasty chose life as an unwed year old . #semst... AGAINST vs AGAINST\n",
      "i am about to deck these bitches in the fucking mouth . #1a #2a #nra #cos #ccot #tgdn #pjnet #wakeupamerica #semst... AGAINST vs AGAINST\n",
      "it is not pro-life if you ignore life of the pregnant woman ; that includes physical / mental health.isprolife #semst... FAVOR vs AGAINST\n",
      "hi while you are campaigning , innocent lives were killed by your pals #rednationrising #uniteblue #semst... AGAINST vs AGAINST\n",
      "we declare that all people have worth and value even if the whole world calls them \" unwanted \" ! #semst... AGAINST vs AGAINST\n",
      "it is no less your child before or after birth . one continuum of life . #semst... AGAINST vs AGAINST\n",
      "right , where are the pre-born women's rights ? #alllivesmatter #equalrights #semst... AGAINST vs NONE\n",
      "i think a woman should have the choice of what to do with her body .. but , what do i know ? im only a woman sure #semst... AGAINST vs FAVOR\n",
      "solidarity with all at the counter #rally4life - ireland won't be equal until women have full control of our bodies #repealthe8th #semst... AGAINST vs AGAINST\n",
      "our #truthtour cont ' in the as we show the humanity of the unborn & inhumanity of abortion ! #cdnpoli #ottawa #onpoli #semst... AGAINST vs AGAINST\n",
      "every year i see #rally4life ads & think ' that sounds great ! ' stop tricking me into thinking you want sth positive ! #repealthe8th #semst... AGAINST vs NONE\n",
      "pray for the navy yard . god please keep the casualties minimal . #1a #2a #nra #cos #ccot #tgdn #pjnet #wakeupamerica #semst... AGAINST vs AGAINST\n",
      "please vote against the anti-choice amendment to the scotland bill on monday - thanks ! #abortionrights #semst... AGAINST vs NONE\n",
      "anti-choice laws are entirely men controlling women #semst... FAVOR vs FAVOR\n",
      "the justification of abortion is rooted in selfishness & fear & they come from lack of faith & self centeredness #semst... AGAINST vs AGAINST\n",
      "every one in congress should attend an abortion procedure especially partial birth that they vote for #ccot #tcot #semst... AGAINST vs NONE\n",
      "natural family planning isn't \" planning \" at all since it just doesn't work . #semst... AGAINST vs NONE\n",
      "#gop as whole party has backwards ideas on #immigration #votingrights #womensright #civilrights . #healthcare #dapa #semst... AGAINST vs NONE\n",
      "it's not that i don't want to be at work . it's that i rather be asleep . #semst... NONE vs FAVOR\n",
      "abortions should never be illegal . it should be the pregnant person's choice . especially if that person was rape #semst... FAVOR vs FAVOR\n",
      "dear proaborts : using bad grammar and filthy language and intimidation makes you look ignorant , inept and desperate . #godwins #semst... AGAINST vs NONE\n",
      "people don't care about things that don't effect men which is the same reason it's sexist we don't cover birth control #semst... AGAINST vs FAVOR\n",
      "basically this documentary is \" you kill babies so we're going to kill you \" lol the irony of pro-lifers . #aftertiller #semst... FAVOR vs AGAINST\n",
      "c7german : heaven is our goal , life is our conquest #socialmedia #technology #catholic #semst... AGAINST vs AGAINST\n",
      "where is #silenceddiscourse for questions on #divisions #schoolchoice #taxes #doublestandard #biased #semst... AGAINST vs NONE\n",
      "no one has 5he right to tell any person what they should do with their body #semst... AGAINST vs FAVOR\n",
      "next time just keep the baby #semst... AGAINST vs AGAINST\n",
      ": . something you hate . people who don't believe abortion should be kept safe and sterile . #semst... FAVOR vs FAVOR\n",
      "just been having rather horrible discussion with - reminder that we have a long way to go . #humanrights #healthcare #semst... NONE vs AGAINST\n",
      "when declaration of independence was adopted , abortion was illegal in all colonies . #txlege #semst... AGAINST vs AGAINST\n",
      "can't wait to see you on #jizismyname #electronicadrugdealer #jiz #semst... AGAINST vs NONE\n",
      "living in a pub isnt all that good when your friends turn into alcoholics #refresher #smurf #noonewillunderstand #semst... NONE vs NONE\n",
      "so , you support the choice of wether or not you'd like to kill someone ? would you kill a born baby ? #semst... AGAINST vs AGAINST\n",
      "ur not aware that using #naturalfamilyplanning will have d same effect as birth spacing ? #semst... AGAINST vs NONE\n",
      "i followed him before i watched human centipede ... i now hope never makes another film again #semst... NONE vs AGAINST\n",
      "i #denounceharper for refusing to include family planning in foreign aid even though spending $ could save $ #wheresthefp #semst... FAVOR vs AGAINST\n",
      "#sb128 isn't opposed merely b / c it's against god's will ( as if we're neanderthals ) . it's murder . like #semst... AGAINST vs NONE\n",
      "the #rally4life shows yet again what little support these people have . #repealthe8th #semst... AGAINST vs NONE\n",
      "we must love our neighbor as being made in the image of god and as an object of his love . ~ saint vincent de paul #semst... AGAINST vs AGAINST\n",
      "fyi : whoopi goldberg is a feminist hero for her six abortions . #womenagainstfeminism #semst... AGAINST vs NONE\n",
      "oh you dont like that im pro-choice . pftt . dont try to force me to be pro-life . fuck off #sorrynotsorry #semst... FAVOR vs AGAINST\n",
      "if the pope gave a flying fuck about the poor on his home continent , he'd let them have abortion and birth control . #semst... AGAINST vs AGAINST\n",
      "why are tumblr feminists so territorial ? pro-lifers can't even voice their opinions without being attacked . #prolifeproblems #semst... AGAINST vs AGAINST\n",
      "so you're at the #rally4life ? tell me more about how #antichoice laws kill 47,000 women a year ! very \" #prolife \" uh ? #repealthe8th #semst... AGAINST vs AGAINST\n",
      "this is the same reason it's sexist that we don't cover women's birth control . any issue that primarily effects women is ignored #semst... FAVOR vs NONE\n",
      "i know ! i'm the only perfect :-) candidate . #procivilliberties #probusiness #proworker #propeace #semst... AGAINST vs NONE\n",
      "in so many ways to christians right here in america we already are the \" great satan \" #gaymarriage #drugs #wakeupamerica #semst... AGAINST vs AGAINST\n",
      "or these dumb anti-abortion #showthetruth assholes who sit on canadian streets with inaccurate disturbing pics ! #semst... FAVOR vs NONE\n",
      "prayers for babies three babies in urgent need of prayer and intervention in dallas tx and another in montgomery al #semst... AGAINST vs AGAINST\n",
      "rt davidharris : mathewsjeanne thank you your very #kind rt . god bless you #patriot . #babies matter #semst... AGAINST vs AGAINST\n",
      "ny pastors need to call their state senators and stop this barbaric bill ! istorture #semst... AGAINST vs NONE\n",
      "why would i want to make choices about my own body , when a congressman could do it for me ? #conversationswithalex #semst... AGAINST vs FAVOR\n",
      "abortion is genocide - i don't think you know what genocide means . #ygk #semst... AGAINST vs AGAINST\n",
      "the most fundamental right of them all , the right to life , is also a right of the unborn . #semst... AGAINST vs AGAINST\n",
      "both r #human . 1e u abuse with misinformation ( #women ) n d other u kill by #baby #semst... AGAINST vs AGAINST\n",
      "repent wen u commit a grave act like murder of a baby did u #abort ur baby ? yes ? then you repent ! #hell s eternity #semst... AGAINST vs AGAINST\n",
      ". since when did toronto become a weak city ? bullied by stone-age cab companies that block traffic illegally . #to4uber #semst... NONE vs AGAINST\n",
      "as a man , the only body i should have a say in is my own . #repealthe8th #rally4life #semst... AGAINST vs FAVOR\n",
      "helping achieve repro . justice step a time . #abfunds #love #compassion #abortionrights #nnaf #semst... FAVOR vs NONE\n",
      "you're truly unwelcome here . please leave . #ygk #semst... NONE vs AGAINST\n",
      "wish i could be at the #rallyforlife counter protest . women are people . fetuses are clumps of cells . end of story . #ireland #semst... AGAINST vs AGAINST\n",
      "where's the most dangerous place for a child ? in the hands of an isis terrorist ? almost . inside their mother's womb #middleamerica #semst... AGAINST vs AGAINST\n",
      "monk's hobbit is back in twitter . #catholics #semst... NONE vs NONE\n",
      "cpcs in this town of : . #goddamn #semst... AGAINST vs NONE\n",
      "reading law cases on abortion rulings from the past years is exhausting ! #research #workhard #work #publichealth #semst... AGAINST vs AGAINST\n",
      "the government has not been able to point to any improved health outcomes for women #law #macedonia #hrctte #semst... AGAINST vs FAVOR\n",
      "i am nazi holocaust survivor and i say that abortion is america's holocaust ! - sibylle heidrich von campe #holocaust #semst... AGAINST vs AGAINST\n",
      "there is no \" #abortion \" involved in taking the pill honey . #womenshealth #abortifacient #fail #semst... AGAINST vs AGAINST\n",
      "lol . i don't know about that . #schoolprayer #govtendorsementofheterosexualmarriage #semst... NONE vs NONE\n",
      "margret sangers looking a little rough ! ! ! #semst... NONE vs NONE\n",
      "fallopians 3:16 \" not your fuckin ' pregnancy - not your fuckin ' business ! \" #semst... FAVOR vs NONE\n",
      "so ariana grande hates america & americans ? she's not alone #scotus #hillary #obama #democrats #aclu #naacp #hamas #isis #semst... NONE vs NONE\n",
      "#populationcontrol = controlling the incoming generations . that's why there's #demographicwinter #epicfail #philippines #rhlaw . #semst... AGAINST vs AGAINST\n",
      "i'm curious mary are you a meat eater and an animal hide wearer ? #semst... NONE vs AGAINST\n",
      "surprised ? a poll sponsored by biased was always going to give a pro-abortion result #repealthe8th #semst... AGAINST vs AGAINST\n",
      "praise report two babies savedone in dallas tx & in charlotte nc if we put forth effort with prayer - miracle's happen #semst... AGAINST vs AGAINST\n",
      "i do not want to bring a child into this dangerous patriarchy . but i want to feel pregnancy as an experience #pregnancyforall #semst... AGAINST vs AGAINST\n",
      "what are they doing with acid signs oh yeah their all tripping #lsd #semst... AGAINST vs AGAINST\n",
      "well said . men are playing political football with women's right to have control over our bodies . #fail #semst... FAVOR vs FAVOR\n",
      "thank you again to show that you are against contraception . \" #prolife \" = a code word for #misogyny . #semst... AGAINST vs AGAINST\n",
      ". there is no such thing as a \" safe & alive \" abortion because every abortion that goes as intended leaves > = dead #semst... AGAINST vs AGAINST\n",
      "those who wonder what they would have done had they lived at the time of some terrible injustice now know the answer - p . hitchens #semst... AGAINST vs NONE\n",
      "it very simple .. let women choose .. #repealthe8th #notacriminal #semst... FAVOR vs NONE\n",
      "and an even worse place from which to make medical decisions for other people #mybodymychoice #notyours #notgovt #semst... FAVOR vs NONE\n",
      "if they made it illegal , people would use coat hangers , and your photos would really be messed up . #letdoctorsdoit #semst... FAVOR vs FAVOR\n",
      "fyi : unborn babies diagnosed with a disability in the womb can feel pain just as much as a baby without a diagnosis #theyfeelpain #semst... AGAINST vs AGAINST\n",
      "if u come this country bettwr life fucking adapt usa ways #1a #2a #nra #cos #ccot #tgdn #pjnet #wakeupamerica #semst... AGAINST vs AGAINST\n",
      "#iccpr report does not cite any reasons for the changes in the legislation regulating . #macedonia #law # #semst... AGAINST vs NONE\n",
      "if we are pronounced dead when our heart stops , why are we not pronounced alive when our heart starts ? #semst... AGAINST vs AGAINST\n",
      "people with a uterus can be pro choice . people who have been pregnant can be pro choice . people who lost a child can be prochoice #semst... FAVOR vs FAVOR\n",
      "babies are humans to support the prolife movement #semst... AGAINST vs AGAINST\n",
      "what nonsense is this colleague of yours writing about ? ? #everylifematters #semst... AGAINST vs NONE\n",
      "are you a triceratops or tricerabottom ? #arethosehornsyourewearing #semst... NONE vs AGAINST\n",
      "congrats to my friends at and for their commitment in getting pain-capable act passed . #wiright #theyfeelpain #semst... AGAINST vs AGAINST\n",
      "#antichoice never try to police men over sex , but punishing women puts them into a frenzy . #semst... FAVOR vs FAVOR\n",
      "every needs c & ' s movie #therallyla . it's life transforming . #drugs #forgive #swbc2015 #salvation #semst... AGAINST vs NONE\n",
      "you can say that again ! #abortionismurder #alllivesmatter #prolifeyouth #semst... AGAINST vs AGAINST\n",
      "pro choice ? just choose to kill yourself after your baby is born . #semst... AGAINST vs AGAINST\n",
      "asked a protester-u'll fund the moms ? yes-so #announced it in dt #hamont-yo ppl #noabortion = these ppl wth picz will pay 4yo ' kids #semst... AGAINST vs NONE\n",
      "1.2 % of abortions happen at weeks + ( these are only exceptions ) #letstalkabortion #semst... NONE vs AGAINST\n",
      "the culture of death is \" #prolife \" who deny pregnant people healthcare . #semst... AGAINST vs NONE\n",
      "dear america : if only a 3d ultrasound picture could evoke the same emotional response . #lifeisprecious #semst... AGAINST vs AGAINST\n",
      "the most horrific violence in america is the war on babies . #semst... AGAINST vs AGAINST\n",
      "was at the planned parenthood protest in #fitchburg today with the image of our lady of america #catholic #semst... AGAINST vs AGAINST\n",
      "just wanted to say that i appreciate the pro life stance . a lot of celebrities are afraid to show a bold stance #lfo #semst... AGAINST vs AGAINST\n",
      "and don't forget , now \" private clubs \" and organizations . aka ~ > #girlscouts & #semst... AGAINST vs NONE\n",
      "anti choice laws are sexist because they ignore the fact that men abandon their pregnant partners & those men face no punishment #semst... FAVOR vs NONE\n",
      "i'm totally cool with this image . was the fetus unviable ? health at risk ? #semst... AGAINST vs NONE\n",
      "rt : it's so easy to be pro-choice , especially when you're not the one getting your skull crushed . #semst... AGAINST vs FAVOR\n",
      "meanwhile , wants to waste your money to kill innocent children in the womb . #dangerous #hypocrite #nochoice #semst... AGAINST vs AGAINST\n",
      "the government has given no explanation of why the law was changed #macedonia #hrctte #semst... AGAINST vs AGAINST\n",
      "to run outside ? to run inside ? #semst... NONE vs NONE\n",
      "you can't say you support women's rights but be against abortion #semst... AGAINST vs FAVOR\n",
      "it's never been about \" life \" has it ? \" #prolife \" are ok with women dying . #semst... AGAINST vs AGAINST\n",
      "while you are at it , eliminate all drugs , cars , planes , food , electricity , and anything else that may cause a death . #semst... NONE vs AGAINST\n",
      "#nothingmoreamericanthan unjustified homicide of the unborn in #semst... AGAINST vs AGAINST\n",
      "our #truthtour continues in #carletonplace as we show the graphic truth of abortion traffic & pedestrians ! #showthetruth #onpoli #semst... AGAINST vs AGAINST\n",
      "#defentthe8th ? why would i defend something that kills people ? remember #savita , killed by irish \" #prolife \" laws ? #repealthe8th #semst... AGAINST vs AGAINST\n",
      "yes . antis just don't make sense . #waronwomen #semst... NONE vs NONE\n",
      "anti choice laws only effect women . people don't care about things that don't effect men #semst... FAVOR vs FAVOR\n",
      "\" natural \" family planning isn't \" planning \" at all since it just doesn't work . #semst... AGAINST vs NONE\n",
      "i get several requests with petitions to save whales but never to stop the slaughter of babies in the wombs of mothers . #abortion . #semst... AGAINST vs AGAINST\n",
      "u dont know using #naturalfamilyplanning will not have the same effect as birth spacing ? #semst... AGAINST vs NONE\n",
      "a prochoice advocate but circumcise ur baby ? fucking hypocrite ! #circumcision #humanrights #semst... AGAINST vs AGAINST\n",
      "antichoice laws say women can't make their own decisions #semst... AGAINST vs NONE\n",
      "being a democrat is never having to say you're sorry ... #slavery #segregation #kkk #semst... NONE vs AGAINST\n",
      "people like you are exactly what is wrong with our society . #procontraception #unapologetic #semst... AGAINST vs NONE\n",
      "not all women want to have or bear children , and that is okay #semst... FAVOR vs AGAINST\n",
      "this #rally4life shit ! how people support it i'll never understand . #semst... AGAINST vs NONE\n",
      "for he who avenges blood remembers , he does not ignore the cry of the afflicted . ~ ps 9:12 #comequicklylordjesus #semst... AGAINST vs AGAINST\n",
      ": postinor is popularly used for ? #mrchocho_babyokoko #semst... NONE vs NONE\n",
      "what do u call #teens hu got #pregnant even while ingesting contraceptives ? success ? can a chaste girl get pregnant ? #semst... AGAINST vs NONE\n",
      "% of abortions occur at the 12th week or before #letstalkabortion #semst... NONE vs AGAINST\n",
      "lord jesus , touch my life with your saving power , heal and restore me to fullnessof life . #semst... AGAINST vs AGAINST\n",
      "does the gay community support abortion ? #prolifeyouth #lgbtpridemonth #semst... AGAINST vs AGAINST\n",
      "i'm kind of scared for the elderly in our country . in a few years , we'll be aborting them too . #americathesocialist #semst... AGAINST vs NONE\n",
      "so the #democrats tore down their own #confederateflag now if they get rid of their #kkk #blackpanthers #alsharpton #hate #semst... NONE vs AGAINST\n",
      "sexual assault is epidemic .. not just in military , colleges , universities . fight stop this crime = less need #semst... AGAINST vs NONE\n",
      "and accepting with love any children arising from union of marriage or at least taking responsibility for life created #semst... AGAINST vs AGAINST\n",
      "just saw your review of ' s book at amazon . i have to say i totally agree with you . a sick marketing ploy . #semst... NONE vs AGAINST\n",
      "i hope you all either enjoy the rugby or enjoy not enjoying the rugby #semst... AGAINST vs AGAINST\n",
      "liberals say i need more tolerance . i say screw tolerating murder . #abortionkills #toleranceisdeath #semst... AGAINST vs AGAINST\n",
      "how can someone be calling for abortion in a speech and end it with \" god bless america \" ? #righttolife #semst... AGAINST vs AGAINST\n",
      "abortionists and their supporters are the real misogynists ! #catholic #christian #progressive #liberal #semst... AGAINST vs AGAINST\n",
      "woman's heartbreaking letter to father of baby she aborted : \" i'm so very sorry - lifenews . please pray for the men hurt by abortion #semst... AGAINST vs AGAINST\n",
      "where is #silenceddiscourse for #divisions on #schoolchoice #taxes #doublestandard #biased #semst... AGAINST vs NONE\n",
      "the beauty of the morning seems ruined knowing abortion clinics open soon . another day of + lives lost to & friends . #semst... AGAINST vs AGAINST\n",
      "yes , an occasional hypocrite . i support #marriageequaility & abhor #semst... NONE vs NONE\n",
      "in turkey at ze momento , just got internet and started reading ' s tweets , literally just killing it ! ! #semst... NONE vs NONE\n",
      "remember that there is no \" murder \" involed in #abortion . i am #procontraception for less #abortion . #semst... AGAINST vs AGAINST\n",
      "the unborn also have rights #defendthe8th #semst... AGAINST vs AGAINST\n",
      "you can't give the \" death penalty \" to something not living sentient or autonomous #waronwomen #roe42 #reprohealth #semst... FAVOR vs NONE\n",
      "would you rather have women taking dangerous concoctions to induce abortions or know they are getting a safe & legal one ? #semst... FAVOR vs AGAINST\n",
      "i #denounceharper because his religious ties are responsible for the #marchforlife anti-choice rallies on parliament hill . #semst... AGAINST vs NONE\n",
      "evidence proves that morbidity & mortality rates of legal abortion r a lot higher dan carrying pregnancy term #teens #semst... AGAINST vs AGAINST\n",
      "if truth is a micro aggression the left why is name calling by the left not a mega hypocrisy ? #uniteblue #libcrib #maddow #semst... AGAINST vs AGAINST\n",
      "actually , child-murder is far worse these days . we live in more savage times . #semst... AGAINST vs NONE\n",
      "en route to parnell square for the rally for life ! ! #everylifematters #semst... AGAINST vs AGAINST\n",
      "#childrenscentre's in the #uk have stay & play sessions for very young / single parents #childcare #parenting #semst... AGAINST vs AGAINST\n",
      "prayers for babies urgent prayer one in lexington ky & two in dallas tx & in chattanooga tn life begins at conception #semst... AGAINST vs AGAINST\n",
      "what about in cases of rape #semst... FAVOR vs NONE\n",
      "the irony of margaret sanger wanting to rid the world of blacks . #semst... AGAINST vs AGAINST\n",
      "not ashamed to say it's me . i'm not in favor of enc itself as not banning enc modules . #semst... NONE vs NONE\n",
      "i'm really pissed off by vaccines mandates . it's not ok to force parents to inject their kids when there might be consequences . #semst... NONE vs FAVOR\n",
      "they are both alive & human from conception just earlier phase of life's continuum ! #semst... AGAINST vs AGAINST\n",
      "rt : god is the author of life and nobody has the right to take it . #semst... AGAINST vs AGAINST\n",
      "happy july 4th - freedom day ! let liberty ring out ! #freedom #faith #jesus #revival #life #tcot #semst... AGAINST vs NONE\n",
      "watch out for censorship in your news and media ! #politicalrevolution #immigration #rednationrising #constitution #corruptmedia #semst... NONE vs NONE\n",
      "damn , interesting news when you find out you were almost a product of abortion #semst... AGAINST vs AGAINST\n",
      "i just unfollowed someone because they tweeted about being pro-life #semst... AGAINST vs NONE\n",
      "pro-choicers are basically tryna fight oppression with more oppression . #feminist #semst... AGAINST vs NONE\n",
      "a much needed days with these guys missed but what a weekend #semst... AGAINST vs NONE\n",
      "get out of my city . #ygk #semst... NONE vs NONE\n",
      "a fetus is not living , breathing , born , sentient , or autonomous which is why the pregnant woman's choice matters more #semst... FAVOR vs FAVOR\n",
      "a bundle of cells feels more pain than a fully grown women ? no . #semst... AGAINST vs FAVOR\n",
      "every time i \" discuss \" with \" #prolife \" it reaffirms my belief that #antichoice are complete idiots . #semst... FAVOR vs AGAINST\n",
      "giving birth is not pushing women toward death . #semst... AGAINST vs FAVOR\n",
      "need a prolife r . e . agent ? - support a prolife group ( u-choose ) at nocost proliferealestate@yahoo.com #semst... AGAINST vs AGAINST\n",
      "it isn't going to happen . the lw and the rw have too many differences . #foreignpolicy #healthcarelegislation #economics #semst... NONE vs NONE\n",
      "i will fight for the unborn ! #semst... AGAINST vs AGAINST\n",
      "i was an accidental baby and as far as i know , my parents were happy to have me . #thanksmom #semst... AGAINST vs AGAINST\n",
      "we must always see others as christ sees us , we must see god in all things & remeber look past sin #romancatholic #semst... AGAINST vs AGAINST\n",
      "don't get pregnant ! make sure you don't get pregnant if you'd just kill your child if you do ! #semst... AGAINST vs FAVOR\n",
      "i don't know about you , but i didn't vote for the gop to capitulate to the dems . #alllivesmatter #semst... AGAINST vs AGAINST\n",
      "if it's not a person then why do women get invitro ? to have a gold fish ? #semst... AGAINST vs FAVOR\n",
      ": i don't * believe * life begins at conception--i * know * life begins at conception . #nrlc2015 #semst... AGAINST vs AGAINST\n",
      "we need more public funding for birth control , condoms and abortions , especially abortions . #budget2015 #election2016 #semst... FAVOR vs NONE\n",
      "dear to who it may concern ; \" you stand up for my right to live . #baby #murder #righttolife #unborn #womensrights #legal #semst... AGAINST vs FAVOR\n",
      "like how can you sit there and even go through with the process #semst... NONE vs AGAINST\n",
      "fair is fair if u believe an unborn child has no right to life , then ur saying i can decide if you do ? ? #semst... AGAINST vs AGAINST\n",
      "who is for it . i'm not . but am for a women's right to her own body . #semst... FAVOR vs FAVOR\n",
      "in we killed the conservatives , freed ourselves from that crap #rightwing #christian #churchstate #tyranny . #uniteblue #tcot #semst... AGAINST vs AGAINST\n",
      "there should be no law or funding which justifies the murder of innocent life . #ccot #pjnet #semst... AGAINST vs AGAINST\n",
      "how many location-efficient , #affordablehousing units could the nyc metro ( pop . 23m ) create if it built over all of its cemeteries ? #semst... NONE vs AGAINST\n",
      "who defends murder here ? i haven't heard anyone defending the killing of human beings . #semst... AGAINST vs AGAINST\n",
      "i have a right to identify as pregnant and have an abortion . having an abortion confirms my power of choice . #pregnancyforall #semst... AGAINST vs FAVOR\n",
      "women have outgrown the common housewife stigma long ago #semst... NONE vs AGAINST\n",
      "why do people think it's ok to get an abortion ... what the fuck is wrong with you ? what if your mom aborted you , you sick fuck ! #semst... AGAINST vs FAVOR\n",
      "#rally4life motherhood is for some much-wanted , for others it is not.it should be by choice , not by force . respect women's choices #semst... AGAINST vs FAVOR\n",
      "those who deny women who've been raped abortion are the same ppl who tell rape victims they asked for it . #rape #semst... AGAINST vs AGAINST\n",
      "protect them by informing #hiv s acquired by having sex even wen using #condoms high #risk of acquiring it #teens #semst... NONE vs AGAINST\n",
      "i would never expect an year old girl to have to carry a pregnancy to term #semst... FAVOR vs AGAINST\n",
      "pro-choice =p ro-life . anti-choice = anti-life . don't play righteous when you're advocating the endangerment of women . #womensrights #semst... FAVOR vs FAVOR\n",
      "compromising on #sin gets easier as time goes on . oh yeah , it didn't just start ! #sexual-impurity #wakeupamerica #semst... AGAINST vs NONE\n",
      "these poor souls won't be anything in the future encouraged women to murder babies . #blacklivesmatter #semst... AGAINST vs AGAINST\n",
      "there is nothing sadder than pro-life young women . i can't help but pity the fools . #repealthe8th #semst... AGAINST vs AGAINST\n",
      "generate belief in quality existence for everyone especially children in that community . kittington #semst... AGAINST vs NONE\n",
      "today is a great because we are alive . #semst... NONE vs AGAINST\n",
      "i cannot believe there are still people in this century who opposed to women having rights over their own bodies ! #disgusted #semst... FAVOR vs FAVOR\n",
      "i'm against abortion , gay marriage , and donald trump for president . #gaymarriage #donaldtrump #semst... AGAINST vs AGAINST\n",
      "hail ( mary ) , full of grace ! the lord is with you . ( luke 1:28 ) #semst... AGAINST vs AGAINST\n",
      "pregnant people have more than heartbeats . they have feelings , and the ability to make decisions about their health . #semst... FAVOR vs FAVOR\n",
      "it's undeniable that conception may also be the birth of a soul unto life itself . why mess with that ? #semst... AGAINST vs FAVOR\n",
      "pro-life laws only effect women so anti choicers are fine with these laws because the laws are only hurting are females #semst... FAVOR vs AGAINST\n",
      "then make sure udon't get pregnant . and don't kill your child if you do ! you are the mom responsible 4child ' s life ! #semst... AGAINST vs AGAINST\n",
      "i will visit pei when all women can get a lawful medical abortion on the island . #cdnpoli #peipoli #womensrights #semst... FAVOR vs FAVOR\n",
      "anti choice laws are sexist because they only effect women * . #semst... FAVOR vs FAVOR\n",
      "not sure where i stand on god and religion . still , don't need to be a christian or religious to be against abortion . #evil #semst... AGAINST vs FAVOR\n",
      "looking forward to the protest today . i can't be there long but i hope my signs will . #kingston #protesters #semst... AGAINST vs AGAINST\n",
      "#ff #patriot --> pigswalkupright . thanks following back ! ! #truth #liberty #justice #proisrael #2a #riseupamerica #proudamerican #semst... NONE vs NONE\n",
      "#rally4life because if they don't want an abortion , then no one can have the choice #semst... AGAINST vs FAVOR\n",
      "societies that put to death the weak and vulnerable are more violent . #nazis #streetgangs #communists #assistedsuicide #semst... AGAINST vs NONE\n",
      "i support because i want to see planned parenthood gone . #semst... AGAINST vs AGAINST\n",
      "kohn is also anti-human rights , anti-social justice , anti-peace , pro-violence . #semst... NONE vs NONE\n",
      "no new human individual formed at conception ! full complement of human chromosomes unique individual dna and alive . #semst... AGAINST vs AGAINST\n",
      "where is the childcare program which you said would be in place ? #loneparents #7istooyoung #semst... AGAINST vs NONE\n",
      "some babies die by chance , none should die by choice ! #semst... AGAINST vs AGAINST\n",
      "' snarck ' - a snarky hack who puts down ordinary folk who dares question their pontifical commentaries #semst... NONE vs AGAINST\n",
      "yea , let's make a woman suffer years and raise a child with an unfit parent who hates it because of \" morality \" . #semst... FAVOR vs AGAINST\n",
      "only one can have bodily autonomy #semst... FAVOR vs NONE\n",
      "you can't handle the truth ! people will always do it no matter the laws . #letdoctorsdoit #semst... FAVOR vs NONE\n",
      "you sponsored the religious freedom bill . what is this bill that allows killing full term babies in ny ? #tcot #semst... AGAINST vs AGAINST\n",
      "#rally4life more like rally for people who think they have the right to authorise other people's decisions #semst... AGAINST vs NONE\n",
      "there's no place for selfishness when you talk about a human life . everyone matters ! #quotes #truelovewaits #parenting #humanrights #semst... AGAINST vs AGAINST\n",
      "obama administration sends 5.6 million dollars to #semst... NONE vs NONE\n",
      "\" freedom of expression ? does that mean that i can display pornography in public if i am against it ? #semst... NONE vs NONE\n",
      "antis don't care because the only people the laws are hurting are females and they don't care about things that don't effect men #semst... FAVOR vs FAVOR\n",
      "if men were the ones that got preganant this would be a non issue in america #bernie2016 #womensrights #solidarity #semst... FAVOR vs NONE\n",
      "it's sad to see so many people getting their values from hollywood rather than the holy scriptures . #prolifeyouth #semst... AGAINST vs AGAINST\n",
      "d real question is . do u even research d side effects of abortion and contraceptives ? #knowyourfacts #semst... AGAINST vs AGAINST\n",
      "the point is bodily autonomy . a born child can rely on other people , and can live by itself #semst... AGAINST vs AGAINST\n",
      "of course an embryo is a person ! if it were a puppy there'd be no desire to abort it . #semst... AGAINST vs AGAINST\n",
      "so anti-choice laws are telling these women they're incapable and shouldn't make decisions that involve their own body . #semst... FAVOR vs FAVOR\n",
      "life is sacred on all levels . abortion does not compute with my philosophy . kate mulgrew ( red on #oitnb ) #semst... AGAINST vs AGAINST\n",
      "there weren't any volunteers outside abortion clinic when she had her abortion bcs there aren't enough of us . can you join us ? 2/2 #semst... AGAINST vs AGAINST\n",
      "before i formed you in the womb i knew you , before you were born i set you apart - jeremiah 1:5 #godislove #youareloved #semst... AGAINST vs AGAINST\n",
      "women are capable of making decisions #semst... FAVOR vs NONE\n",
      "i'm good like this . i've always been #semst... NONE vs AGAINST\n",
      "i can think of a thousand things more important than keith olbermann . #sanctuarycities #irsscandal #benghazi #bergdahl #usdebt #semst... NONE vs NONE\n",
      "sad this is what has to be done for women in need #semst... NONE vs NONE\n",
      "meet the press admitted to being very pro-choice even with late term & partial birth abortions . he's sick ! #semst... AGAINST vs AGAINST\n",
      "rt : \" why does the government not hold a referendum on abortion ? \" asks un cescr mbr pillay #unirl #semst... AGAINST vs AGAINST\n",
      "like % of antis don't care about breathing viable persons , and % care about embryos more #semst... FAVOR vs NONE\n",
      ": my views are my own . #alllivesmatter #prebornlivesmatter #abortionisviolence #whyi'mnotvotingforhillary #semst... AGAINST vs NONE\n",
      "sorry hilary but i'm #southern and don't bleed that #rainbow #bleedred #america #southwillriseagain #semst... AGAINST vs NONE\n",
      "the teen pregnancy rate has declined percent , and the teen birth rate is down percent . #semst... NONE vs AGAINST\n",
      "i'll celebrate #independenceday when everyone in this country is equally free & not living in fear & poverty ! #equalityforall #p2 #semst... AGAINST vs NONE\n"
     ]
    }
   ],
   "source": [
    "for (text, true, pred) in zip(text_test, label_test, pred_labels):\n",
    "    print(\"{}... {} vs {}\".format(text, true, pred))"
   ]
  },
  {
   "cell_type": "markdown",
   "metadata": {},
   "source": [
    "## Fasttext Embeddings"
   ]
  },
  {
   "cell_type": "markdown",
   "metadata": {},
   "source": [
    "###  Generate training file as needed by the fasttext lib"
   ]
  },
  {
   "cell_type": "code",
   "execution_count": 30,
   "metadata": {},
   "outputs": [],
   "source": [
    "import pymongo\n",
    "\n",
    "client = pymongo.MongoClient(\"mongodb://localhost:27017/\")\n",
    "\n",
    "db = client[\"abortion\"]"
   ]
  },
  {
   "cell_type": "markdown",
   "metadata": {},
   "source": [
    "### Filter retweets"
   ]
  },
  {
   "cell_type": "code",
   "execution_count": 23,
   "metadata": {},
   "outputs": [],
   "source": [
    "# w = open(\"fasttext_train_unsupervised.txt\", 'w')\n",
    "# unique_tweets = set()\n",
    "# for t in db.abortion.find({},{\"tweet.full_text\"}):\n",
    "#     unique_tweets.add(t['tweet']['full_text'])\n",
    "\n",
    "# for text in unique_tweets:\n",
    "#     w.write(\"{}\\n\".format(text))\n",
    "\n",
    "# for text in text_train:\n",
    "#     w.write(\"{}\\n\".format(text))\n",
    "    \n",
    "# w.close()"
   ]
  },
  {
   "cell_type": "code",
   "execution_count": null,
   "metadata": {},
   "outputs": [],
   "source": []
  },
  {
   "cell_type": "code",
   "execution_count": 48,
   "metadata": {},
   "outputs": [
    {
     "data": {
      "text/plain": [
       "154726"
      ]
     },
     "execution_count": 48,
     "metadata": {},
     "output_type": "execute_result"
    }
   ],
   "source": [
    "len(unique_tweets)"
   ]
  },
  {
   "cell_type": "code",
   "execution_count": 202,
   "metadata": {},
   "outputs": [
    {
     "name": "stderr",
     "output_type": "stream",
     "text": [
      "\n"
     ]
    }
   ],
   "source": [
    "model_vectors = fasttext.load_model(\"fasttext-embeddings-abortion.bin\")"
   ]
  },
  {
   "cell_type": "code",
   "execution_count": 220,
   "metadata": {},
   "outputs": [],
   "source": [
    "train_embeds = [[0] * 300] * len(text_train)\n",
    "for idx, tweet in enumerate(text_train):\n",
    "    for word in tweet:\n",
    "        train_embeds[idx] += model_vectors[word]\n"
   ]
  },
  {
   "cell_type": "code",
   "execution_count": 221,
   "metadata": {},
   "outputs": [],
   "source": [
    "test_embeds = [[0] * 300] * len(text_test)\n",
    "for idx, tweet in enumerate(text_test):\n",
    "    for word in tweet:\n",
    "        test_embeds[idx] += model_vectors[word]\n"
   ]
  },
  {
   "cell_type": "markdown",
   "metadata": {},
   "source": [
    "# Logistic Regression"
   ]
  },
  {
   "cell_type": "markdown",
   "metadata": {},
   "source": [
    "## With word count matrix"
   ]
  },
  {
   "cell_type": "code",
   "execution_count": 212,
   "metadata": {},
   "outputs": [
    {
     "name": "stderr",
     "output_type": "stream",
     "text": [
      "/home/dfurman/anaconda3/lib/python3.7/site-packages/sklearn/linear_model/logistic.py:460: FutureWarning: Default multi_class will be changed to 'auto' in 0.22. Specify the multi_class option to silence this warning.\n",
      "  \"this warning.\", FutureWarning)\n",
      "/home/dfurman/anaconda3/lib/python3.7/site-packages/sklearn/linear_model/logistic.py:1300: UserWarning: 'n_jobs' > 1 does not have any effect when 'solver' is set to 'liblinear'. Got 'n_jobs' = 24.\n",
      "  \" = {}.\".format(effective_n_jobs(self.n_jobs)))\n"
     ]
    },
    {
     "data": {
      "text/plain": [
       "0.8922558922558923"
      ]
     },
     "execution_count": 212,
     "metadata": {},
     "output_type": "execute_result"
    }
   ],
   "source": [
    "clf = LogisticRegression(penalty='l1', class_weight='balanced', C=1.0, n_jobs=-1)\n",
    "\n",
    "clf.fit(X_train, label_train)\n",
    "\n",
    "clf.score(X_train, label_train)"
   ]
  },
  {
   "cell_type": "code",
   "execution_count": 213,
   "metadata": {},
   "outputs": [
    {
     "data": {
      "text/plain": [
       "0.625"
      ]
     },
     "execution_count": 213,
     "metadata": {},
     "output_type": "execute_result"
    }
   ],
   "source": [
    "clf.score(X_test, label_test)"
   ]
  },
  {
   "cell_type": "code",
   "execution_count": 214,
   "metadata": {},
   "outputs": [
    {
     "data": {
      "text/plain": [
       "[('actually , child-murder is far worse these days . we live in more savage times . #semst',\n",
       "  'NONE',\n",
       "  'AGAINST'),\n",
       " ('would you rather have women taking dangerous concoctions to induce abortions or know they are getting a safe & legal one ? #semst',\n",
       "  'FAVOR',\n",
       "  'FAVOR'),\n",
       " ('remember that there is no \" murder \" involed in #abortion . i am #procontraception for less #abortion . #semst',\n",
       "  'FAVOR',\n",
       "  'FAVOR')]"
      ]
     },
     "execution_count": 214,
     "metadata": {},
     "output_type": "execute_result"
    }
   ],
   "source": [
    "test_preds = clf.predict(X_test)\n",
    "list(zip(text_test, test_preds, label_test))[:3]"
   ]
  },
  {
   "cell_type": "code",
   "execution_count": 216,
   "metadata": {},
   "outputs": [
    {
     "data": {
      "text/plain": [
       "0.625"
      ]
     },
     "execution_count": 216,
     "metadata": {},
     "output_type": "execute_result"
    }
   ],
   "source": [
    "f1_score(label_test, test_preds, average=\"micro\", labels=['AGAINST','FAVOR','NONE'])\n",
    "\n",
    "# array([0.67109635, 0.47706422, 0.48      ])\n",
    "# Micro 0.5821428571428572 Macro 0.5427201885661455"
   ]
  },
  {
   "cell_type": "markdown",
   "metadata": {},
   "source": [
    "## With fasttext embeddings"
   ]
  },
  {
   "cell_type": "code",
   "execution_count": 222,
   "metadata": {},
   "outputs": [
    {
     "name": "stderr",
     "output_type": "stream",
     "text": [
      "/home/dfurman/anaconda3/lib/python3.7/site-packages/sklearn/linear_model/logistic.py:433: FutureWarning: Default solver will be changed to 'lbfgs' in 0.22. Specify a solver to silence this warning.\n",
      "  FutureWarning)\n",
      "/home/dfurman/anaconda3/lib/python3.7/site-packages/sklearn/linear_model/logistic.py:460: FutureWarning: Default multi_class will be changed to 'auto' in 0.22. Specify the multi_class option to silence this warning.\n",
      "  \"this warning.\", FutureWarning)\n",
      "/home/dfurman/anaconda3/lib/python3.7/site-packages/sklearn/linear_model/logistic.py:1300: UserWarning: 'n_jobs' > 1 does not have any effect when 'solver' is set to 'liblinear'. Got 'n_jobs' = 24.\n",
      "  \" = {}.\".format(effective_n_jobs(self.n_jobs)))\n"
     ]
    },
    {
     "data": {
      "text/plain": [
       "0.6026936026936027"
      ]
     },
     "execution_count": 222,
     "metadata": {},
     "output_type": "execute_result"
    }
   ],
   "source": [
    "clf_lr_fasttext = LogisticRegression(penalty='l1', class_weight='balanced', C=1.0, n_jobs=-1)\n",
    "clf_lr_fasttext.fit(train_embeds, label_train)\n",
    "clf_lr_fasttext.score(train_embeds, label_train)"
   ]
  },
  {
   "cell_type": "code",
   "execution_count": 223,
   "metadata": {},
   "outputs": [
    {
     "data": {
      "text/plain": [
       "0.39285714285714285"
      ]
     },
     "execution_count": 223,
     "metadata": {},
     "output_type": "execute_result"
    }
   ],
   "source": [
    "clf_lr_fasttext.score(test_embeds, label_test)"
   ]
  },
  {
   "cell_type": "code",
   "execution_count": 224,
   "metadata": {},
   "outputs": [
    {
     "data": {
      "text/plain": [
       "[('actually , child-murder is far worse these days . we live in more savage times . #semst',\n",
       "  'NONE',\n",
       "  'AGAINST'),\n",
       " ('would you rather have women taking dangerous concoctions to induce abortions or know they are getting a safe & legal one ? #semst',\n",
       "  'FAVOR',\n",
       "  'FAVOR'),\n",
       " ('remember that there is no \" murder \" involed in #abortion . i am #procontraception for less #abortion . #semst',\n",
       "  'AGAINST',\n",
       "  'FAVOR')]"
      ]
     },
     "execution_count": 224,
     "metadata": {},
     "output_type": "execute_result"
    }
   ],
   "source": [
    "test_preds_fasttext = clf_lr_fasttext.predict(test_embeds)\n",
    "list(zip(text_test, test_preds_fasttext, label_test))[:3]"
   ]
  },
  {
   "cell_type": "code",
   "execution_count": 225,
   "metadata": {},
   "outputs": [
    {
     "data": {
      "text/plain": [
       "0.39594580402310503"
      ]
     },
     "execution_count": 225,
     "metadata": {},
     "output_type": "execute_result"
    }
   ],
   "source": [
    "f1_score(label_test, test_preds_fasttext, average='macro', labels=['AGAINST','FAVOR','NONE'])\n",
    "\n",
    "# array([0.81318681, 0.04255319, 0.27586207])\n",
    "# Micro 0.6928571428571428 Macro 0.3772006912138974\n",
    "\n",
    "#It's not predicting AGAINST to everything but it has a clear favouritism for majoritay class"
   ]
  },
  {
   "cell_type": "code",
   "execution_count": null,
   "metadata": {},
   "outputs": [],
   "source": [
    "# Next step: check how well they perform accounting only the predictions with most confidence"
   ]
  },
  {
   "cell_type": "markdown",
   "metadata": {},
   "source": [
    "# Enhance training corpus using fasttext classifier"
   ]
  },
  {
   "cell_type": "markdown",
   "metadata": {},
   "source": [
    "### Predict on unlabeled corpus"
   ]
  },
  {
   "cell_type": "code",
   "execution_count": 259,
   "metadata": {},
   "outputs": [],
   "source": [
    "f = open(\"abortion_unlabeled.csv\", 'r')\n",
    "w = open(\"enhanced_labeled_corpus_using_fasttext\", 'w')\n",
    "for idx, line in enumerate(f):\n",
    "    tweet = line.replace('\\n','')\n",
    "    prediction = model.predict(tweet)\n",
    "    if prediction[1] > 0.98 and tweet != \"\":\n",
    "        w.write(\"{}__label__{}\\n\".format(tweet, prediction))"
   ]
  },
  {
   "cell_type": "markdown",
   "metadata": {},
   "source": [
    "### Mix train data with predictions"
   ]
  },
  {
   "cell_type": "code",
   "execution_count": 260,
   "metadata": {},
   "outputs": [],
   "source": [
    "predictions = open(\"enhanced_labeled_corpus_using_fasttext\", 'r')\n",
    "training = open(\"fasttext_train.txt\", 'r')\n",
    "w = open(\"tmp_train_with_predictions_fasttext.txt\", 'w')\n",
    "\n",
    "for idx, line in enumerate(training):\n",
    "    w.write(\"{}\".format(line))\n",
    "    \n",
    "for idx, line in enumerate(predictions):\n",
    "    w.write(\"{}\".format(line))"
   ]
  },
  {
   "cell_type": "markdown",
   "metadata": {},
   "source": [
    "### Retrain new model"
   ]
  },
  {
   "cell_type": "code",
   "execution_count": 270,
   "metadata": {},
   "outputs": [],
   "source": [
    "# Find the best number of epochs in order not to overfit\n",
    "best_epoch_enhanced = 0\n",
    "best_f1_enhanced = 0\n",
    "model_enhanced = None\n",
    "for epoch in [5000, 7000, 10000, 12000, 15000]:    \n",
    "    model_enhanced = fasttext.train_supervised('tmp_train_with_predictions_fasttext.txt', lr=0.001, dim=500, epoch=epoch)\n",
    "    \n",
    "    # Evaluate\n",
    "    tweet_selected = []\n",
    "    predictions = []\n",
    "    label_valid_selection = []\n",
    "    for tweet, label in zip(text_valid, label_valid):\n",
    "        prediction = model_enhanced.predict(tweet)\n",
    "        tweet_selected.append(tweet)\n",
    "        predictions.append(prediction)\n",
    "        label_valid_selection.append(label)\n",
    "    pred_labels = [pred[0][0].replace('__label__','') for pred in predictions]\n",
    "#     print(list(zip(label_valid_selection, pred_labels)))\n",
    "    current_f1_enhanced = f1_score(label_valid_selection, pred_labels, average=\"macro\", labels=['AGAINST','FAVOR','NONE'])\n",
    "    if current_f1_enhanced > best_f1_enhanced:\n",
    "        best_epoch_enhanced = epoch\n",
    "        best_f1_enhanced = current_f1_enhanced"
   ]
  },
  {
   "cell_type": "code",
   "execution_count": 271,
   "metadata": {},
   "outputs": [
    {
     "data": {
      "text/plain": [
       "0.5829489313360282"
      ]
     },
     "execution_count": 271,
     "metadata": {},
     "output_type": "execute_result"
    }
   ],
   "source": [
    "best_f1_enhanced"
   ]
  },
  {
   "cell_type": "code",
   "execution_count": null,
   "metadata": {},
   "outputs": [],
   "source": [
    "# Write doc with amount of tweets and confidence used\n",
    "# Use F1 using only against and favor\n",
    "# Use a random seed to get the train subsample or save the subsample test corpus and upload it\n",
    "# Description on the subsumpling"
   ]
  }
 ],
 "metadata": {
  "kernelspec": {
   "display_name": "Python 3",
   "language": "python",
   "name": "python3"
  },
  "language_info": {
   "codemirror_mode": {
    "name": "ipython",
    "version": 3
   },
   "file_extension": ".py",
   "mimetype": "text/x-python",
   "name": "python",
   "nbconvert_exporter": "python",
   "pygments_lexer": "ipython3",
   "version": "3.7.3"
  }
 },
 "nbformat": 4,
 "nbformat_minor": 2
}
